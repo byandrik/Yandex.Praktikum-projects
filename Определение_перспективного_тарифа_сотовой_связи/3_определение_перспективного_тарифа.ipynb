{
 "cells": [
  {
   "cell_type": "markdown",
   "metadata": {},
   "source": [
    "## Определение перспективного тарифа для телеком компании"
   ]
  },
  {
   "cell_type": "markdown",
   "metadata": {},
   "source": [
    "Вы аналитик компании «Мегалайн» — федерального оператора сотовой связи. Клиентам предлагают два тарифных плана: «Смарт» и «Ультра». Чтобы скорректировать рекламный бюджет, коммерческий департамент хочет понять, какой тариф приносит больше денег.\n",
    "\n",
    "Вам предстоит сделать предварительный анализ тарифов на небольшой выборке клиентов. В вашем распоряжении данные 500 пользователей «Мегалайна»: кто они, откуда, каким тарифом пользуются, сколько звонков и сообщений каждый отправил за 2018 год. Нужно проанализировать поведение клиентов и сделать вывод — какой тариф лучше."
   ]
  },
  {
   "cell_type": "markdown",
   "metadata": {},
   "source": [
    "### Шаг 1. Читаем данные"
   ]
  },
  {
   "cell_type": "code",
   "execution_count": 1,
   "metadata": {},
   "outputs": [],
   "source": [
    "# импортируем необходимые библиотеки\n",
    "import pandas as pd\n",
    "import matplotlib.pyplot as plt\n",
    "import math\n",
    "import numpy as np\n",
    "from scipy import stats as st\n",
    "\n",
    "# читаем данные и записываем в переменную\n",
    "calls = pd.read_csv('/datasets/calls.csv')\n",
    "internet = pd.read_csv('/datasets/internet.csv')\n",
    "messages = pd.read_csv('/datasets/messages.csv')\n",
    "tariffs = pd.read_csv('/datasets/tariffs.csv')\n",
    "users = pd.read_csv('/datasets/users.csv')"
   ]
  },
  {
   "cell_type": "markdown",
   "metadata": {},
   "source": [
    "### Шаг 2. Предобработка данных"
   ]
  },
  {
   "cell_type": "markdown",
   "metadata": {},
   "source": [
    "#### Предобработаем данные в таблице 'calls'"
   ]
  },
  {
   "cell_type": "code",
   "execution_count": 2,
   "metadata": {},
   "outputs": [
    {
     "name": "stdout",
     "output_type": "stream",
     "text": [
      "<class 'pandas.core.frame.DataFrame'>\n",
      "RangeIndex: 202607 entries, 0 to 202606\n",
      "Data columns (total 4 columns):\n",
      "id           202607 non-null object\n",
      "call_date    202607 non-null object\n",
      "duration     202607 non-null float64\n",
      "user_id      202607 non-null int64\n",
      "dtypes: float64(1), int64(1), object(2)\n",
      "memory usage: 6.2+ MB\n"
     ]
    },
    {
     "data": {
      "text/html": [
       "<div>\n",
       "<style scoped>\n",
       "    .dataframe tbody tr th:only-of-type {\n",
       "        vertical-align: middle;\n",
       "    }\n",
       "\n",
       "    .dataframe tbody tr th {\n",
       "        vertical-align: top;\n",
       "    }\n",
       "\n",
       "    .dataframe thead th {\n",
       "        text-align: right;\n",
       "    }\n",
       "</style>\n",
       "<table border=\"1\" class=\"dataframe\">\n",
       "  <thead>\n",
       "    <tr style=\"text-align: right;\">\n",
       "      <th></th>\n",
       "      <th>id</th>\n",
       "      <th>call_date</th>\n",
       "      <th>duration</th>\n",
       "      <th>user_id</th>\n",
       "    </tr>\n",
       "  </thead>\n",
       "  <tbody>\n",
       "    <tr>\n",
       "      <td>0</td>\n",
       "      <td>1000_0</td>\n",
       "      <td>2018-07-25</td>\n",
       "      <td>0.00</td>\n",
       "      <td>1000</td>\n",
       "    </tr>\n",
       "    <tr>\n",
       "      <td>1</td>\n",
       "      <td>1000_1</td>\n",
       "      <td>2018-08-17</td>\n",
       "      <td>0.00</td>\n",
       "      <td>1000</td>\n",
       "    </tr>\n",
       "    <tr>\n",
       "      <td>2</td>\n",
       "      <td>1000_2</td>\n",
       "      <td>2018-06-11</td>\n",
       "      <td>2.85</td>\n",
       "      <td>1000</td>\n",
       "    </tr>\n",
       "    <tr>\n",
       "      <td>3</td>\n",
       "      <td>1000_3</td>\n",
       "      <td>2018-09-21</td>\n",
       "      <td>13.80</td>\n",
       "      <td>1000</td>\n",
       "    </tr>\n",
       "    <tr>\n",
       "      <td>4</td>\n",
       "      <td>1000_4</td>\n",
       "      <td>2018-12-15</td>\n",
       "      <td>5.18</td>\n",
       "      <td>1000</td>\n",
       "    </tr>\n",
       "  </tbody>\n",
       "</table>\n",
       "</div>"
      ],
      "text/plain": [
       "       id   call_date  duration  user_id\n",
       "0  1000_0  2018-07-25      0.00     1000\n",
       "1  1000_1  2018-08-17      0.00     1000\n",
       "2  1000_2  2018-06-11      2.85     1000\n",
       "3  1000_3  2018-09-21     13.80     1000\n",
       "4  1000_4  2018-12-15      5.18     1000"
      ]
     },
     "execution_count": 2,
     "metadata": {},
     "output_type": "execute_result"
    }
   ],
   "source": [
    "# получаем первые данные по таблице 'calls'\n",
    "calls.info()\n",
    "calls.head()"
   ]
  },
  {
   "cell_type": "code",
   "execution_count": 3,
   "metadata": {},
   "outputs": [
    {
     "data": {
      "text/plain": [
       "<matplotlib.axes._subplots.AxesSubplot at 0x7f568f7e6d50>"
      ]
     },
     "execution_count": 3,
     "metadata": {},
     "output_type": "execute_result"
    },
    {
     "data": {
      "image/png": "[encoded data removed]",
      "text/plain": [
       "<Figure size 1080x576 with 1 Axes>"
      ]
     },
     "metadata": {
      "needs_background": "light"
     },
     "output_type": "display_data"
    }
   ],
   "source": [
    "# оценим распределение длительности звонков\n",
    "calls.duration.plot(kind='hist', figsize=(15,8), \n",
    "                    xticks=[i for i in range(31)], \n",
    "                    xlim=(0,31), grid=True, bins=37, \n",
    "                    title='Распределение длительности звонков')"
   ]
  },
  {
   "cell_type": "markdown",
   "metadata": {},
   "source": [
    "Обнаружено большое количество звонков с продолжительностью 0.0 минут. Полагаю, что так система определяет звонки, которые адресат не принял. "
   ]
  },
  {
   "cell_type": "code",
   "execution_count": 4,
   "metadata": {},
   "outputs": [],
   "source": [
    "# избавимся от нулевых значений, так как денег за реализованный звонок Мегалайн не берет\n",
    "calls = calls.query('duration > 0.0')\n",
    "\n",
    "# округлим длительность в большую сторону, как делает оператор\n",
    "calls['duration_ceil'] = calls.duration.apply(math.ceil)"
   ]
  },
  {
   "cell_type": "code",
   "execution_count": 5,
   "metadata": {},
   "outputs": [
    {
     "data": {
      "text/plain": [
       "<matplotlib.axes._subplots.AxesSubplot at 0x7f568f6cd9d0>"
      ]
     },
     "execution_count": 5,
     "metadata": {},
     "output_type": "execute_result"
    },
    {
     "data": {
      "image/png": "[encoded data removed]",
      "text/plain": [
       "<Figure size 1080x576 with 1 Axes>"
      ]
     },
     "metadata": {
      "needs_background": "light"
     },
     "output_type": "display_data"
    }
   ],
   "source": [
    "# оценим распределение длительности звонков\n",
    "calls.duration_ceil.plot(kind='hist', figsize=(15,8), \n",
    "                    xticks=[i for i in range(31)], \n",
    "                    xlim=(0,31), grid=True, bins=37, \n",
    "                    title='Новое распределение длительности звонков')"
   ]
  },
  {
   "cell_type": "markdown",
   "metadata": {},
   "source": [
    "Теперь очевидно, что длительность звонков имеет распределение Пуассона, что вполне логично"
   ]
  },
  {
   "cell_type": "code",
   "execution_count": 6,
   "metadata": {},
   "outputs": [],
   "source": [
    "# изменим тип данных столбца с датой\n",
    "calls['call_date'] = pd.to_datetime(calls['call_date'], format='%Y-%m-%d')\n",
    "\n",
    "# добавим данные о месяце звонков для будущей группировки данных\n",
    "calls['month'] = calls['call_date'].dt.month"
   ]
  },
  {
   "cell_type": "code",
   "execution_count": 7,
   "metadata": {},
   "outputs": [],
   "source": [
    "# сгруппируем данные по user_id и месяцам\n",
    "calls_stat = calls.pivot_table(index=['user_id', 'month'],  \n",
    "                               values='duration_ceil', \n",
    "                               aggfunc='sum').reset_index()\n",
    "calls_stat.columns = ['user_id', 'month', 'sum_of_calls_min']"
   ]
  },
  {
   "cell_type": "code",
   "execution_count": 8,
   "metadata": {},
   "outputs": [
    {
     "data": {
      "text/html": [
       "<div>\n",
       "<style scoped>\n",
       "    .dataframe tbody tr th:only-of-type {\n",
       "        vertical-align: middle;\n",
       "    }\n",
       "\n",
       "    .dataframe tbody tr th {\n",
       "        vertical-align: top;\n",
       "    }\n",
       "\n",
       "    .dataframe thead th {\n",
       "        text-align: right;\n",
       "    }\n",
       "</style>\n",
       "<table border=\"1\" class=\"dataframe\">\n",
       "  <thead>\n",
       "    <tr style=\"text-align: right;\">\n",
       "      <th></th>\n",
       "      <th>user_id</th>\n",
       "      <th>month</th>\n",
       "      <th>sum_of_calls_min</th>\n",
       "    </tr>\n",
       "  </thead>\n",
       "  <tbody>\n",
       "    <tr>\n",
       "      <td>0</td>\n",
       "      <td>1000</td>\n",
       "      <td>5</td>\n",
       "      <td>159</td>\n",
       "    </tr>\n",
       "    <tr>\n",
       "      <td>1</td>\n",
       "      <td>1000</td>\n",
       "      <td>6</td>\n",
       "      <td>172</td>\n",
       "    </tr>\n",
       "    <tr>\n",
       "      <td>2</td>\n",
       "      <td>1000</td>\n",
       "      <td>7</td>\n",
       "      <td>340</td>\n",
       "    </tr>\n",
       "    <tr>\n",
       "      <td>3</td>\n",
       "      <td>1000</td>\n",
       "      <td>8</td>\n",
       "      <td>408</td>\n",
       "    </tr>\n",
       "    <tr>\n",
       "      <td>4</td>\n",
       "      <td>1000</td>\n",
       "      <td>9</td>\n",
       "      <td>466</td>\n",
       "    </tr>\n",
       "    <tr>\n",
       "      <td>...</td>\n",
       "      <td>...</td>\n",
       "      <td>...</td>\n",
       "      <td>...</td>\n",
       "    </tr>\n",
       "    <tr>\n",
       "      <td>3163</td>\n",
       "      <td>1498</td>\n",
       "      <td>10</td>\n",
       "      <td>247</td>\n",
       "    </tr>\n",
       "    <tr>\n",
       "      <td>3164</td>\n",
       "      <td>1499</td>\n",
       "      <td>9</td>\n",
       "      <td>70</td>\n",
       "    </tr>\n",
       "    <tr>\n",
       "      <td>3165</td>\n",
       "      <td>1499</td>\n",
       "      <td>10</td>\n",
       "      <td>449</td>\n",
       "    </tr>\n",
       "    <tr>\n",
       "      <td>3166</td>\n",
       "      <td>1499</td>\n",
       "      <td>11</td>\n",
       "      <td>612</td>\n",
       "    </tr>\n",
       "    <tr>\n",
       "      <td>3167</td>\n",
       "      <td>1499</td>\n",
       "      <td>12</td>\n",
       "      <td>492</td>\n",
       "    </tr>\n",
       "  </tbody>\n",
       "</table>\n",
       "<p>3168 rows × 3 columns</p>\n",
       "</div>"
      ],
      "text/plain": [
       "      user_id  month  sum_of_calls_min\n",
       "0        1000      5               159\n",
       "1        1000      6               172\n",
       "2        1000      7               340\n",
       "3        1000      8               408\n",
       "4        1000      9               466\n",
       "...       ...    ...               ...\n",
       "3163     1498     10               247\n",
       "3164     1499      9                70\n",
       "3165     1499     10               449\n",
       "3166     1499     11               612\n",
       "3167     1499     12               492\n",
       "\n",
       "[3168 rows x 3 columns]"
      ]
     },
     "execution_count": 8,
     "metadata": {},
     "output_type": "execute_result"
    }
   ],
   "source": [
    "calls_stat"
   ]
  },
  {
   "cell_type": "code",
   "execution_count": 9,
   "metadata": {},
   "outputs": [
    {
     "name": "stdout",
     "output_type": "stream",
     "text": [
      "Данные не потеряны\n"
     ]
    }
   ],
   "source": [
    "# проверка на потерю данных\n",
    "if calls['user_id'].unique().sum() == calls_stat['user_id'].unique().sum():\n",
    "    print('Данные не потеряны')\n",
    "else:\n",
    "    print('Необходимо уточнение')"
   ]
  },
  {
   "cell_type": "markdown",
   "metadata": {},
   "source": [
    "#### Предобработаем данные в таблице 'internet'"
   ]
  },
  {
   "cell_type": "code",
   "execution_count": 10,
   "metadata": {},
   "outputs": [
    {
     "name": "stdout",
     "output_type": "stream",
     "text": [
      "<class 'pandas.core.frame.DataFrame'>\n",
      "RangeIndex: 149396 entries, 0 to 149395\n",
      "Data columns (total 5 columns):\n",
      "Unnamed: 0      149396 non-null int64\n",
      "id              149396 non-null object\n",
      "mb_used         149396 non-null float64\n",
      "session_date    149396 non-null object\n",
      "user_id         149396 non-null int64\n",
      "dtypes: float64(1), int64(2), object(2)\n",
      "memory usage: 5.7+ MB\n"
     ]
    },
    {
     "data": {
      "text/html": [
       "<div>\n",
       "<style scoped>\n",
       "    .dataframe tbody tr th:only-of-type {\n",
       "        vertical-align: middle;\n",
       "    }\n",
       "\n",
       "    .dataframe tbody tr th {\n",
       "        vertical-align: top;\n",
       "    }\n",
       "\n",
       "    .dataframe thead th {\n",
       "        text-align: right;\n",
       "    }\n",
       "</style>\n",
       "<table border=\"1\" class=\"dataframe\">\n",
       "  <thead>\n",
       "    <tr style=\"text-align: right;\">\n",
       "      <th></th>\n",
       "      <th>Unnamed: 0</th>\n",
       "      <th>id</th>\n",
       "      <th>mb_used</th>\n",
       "      <th>session_date</th>\n",
       "      <th>user_id</th>\n",
       "    </tr>\n",
       "  </thead>\n",
       "  <tbody>\n",
       "    <tr>\n",
       "      <td>0</td>\n",
       "      <td>0</td>\n",
       "      <td>1000_0</td>\n",
       "      <td>112.95</td>\n",
       "      <td>2018-11-25</td>\n",
       "      <td>1000</td>\n",
       "    </tr>\n",
       "    <tr>\n",
       "      <td>1</td>\n",
       "      <td>1</td>\n",
       "      <td>1000_1</td>\n",
       "      <td>1052.81</td>\n",
       "      <td>2018-09-07</td>\n",
       "      <td>1000</td>\n",
       "    </tr>\n",
       "    <tr>\n",
       "      <td>2</td>\n",
       "      <td>2</td>\n",
       "      <td>1000_2</td>\n",
       "      <td>1197.26</td>\n",
       "      <td>2018-06-25</td>\n",
       "      <td>1000</td>\n",
       "    </tr>\n",
       "    <tr>\n",
       "      <td>3</td>\n",
       "      <td>3</td>\n",
       "      <td>1000_3</td>\n",
       "      <td>550.27</td>\n",
       "      <td>2018-08-22</td>\n",
       "      <td>1000</td>\n",
       "    </tr>\n",
       "    <tr>\n",
       "      <td>4</td>\n",
       "      <td>4</td>\n",
       "      <td>1000_4</td>\n",
       "      <td>302.56</td>\n",
       "      <td>2018-09-24</td>\n",
       "      <td>1000</td>\n",
       "    </tr>\n",
       "  </tbody>\n",
       "</table>\n",
       "</div>"
      ],
      "text/plain": [
       "   Unnamed: 0      id  mb_used session_date  user_id\n",
       "0           0  1000_0   112.95   2018-11-25     1000\n",
       "1           1  1000_1  1052.81   2018-09-07     1000\n",
       "2           2  1000_2  1197.26   2018-06-25     1000\n",
       "3           3  1000_3   550.27   2018-08-22     1000\n",
       "4           4  1000_4   302.56   2018-09-24     1000"
      ]
     },
     "execution_count": 10,
     "metadata": {},
     "output_type": "execute_result"
    }
   ],
   "source": [
    "# получаем первые данные по таблице 'internet'\n",
    "internet.info()\n",
    "internet.head()"
   ]
  },
  {
   "cell_type": "code",
   "execution_count": 11,
   "metadata": {},
   "outputs": [
    {
     "data": {
      "text/plain": [
       "<matplotlib.axes._subplots.AxesSubplot at 0x7f568f596950>"
      ]
     },
     "execution_count": 11,
     "metadata": {},
     "output_type": "execute_result"
    },
    {
     "data": {
      "image/png": "[encoded data removed]",
      "text/plain": [
       "<Figure size 1080x576 with 1 Axes>"
      ]
     },
     "metadata": {
      "needs_background": "light"
     },
     "output_type": "display_data"
    }
   ],
   "source": [
    "# оценим распределение потраченного трафика за одну сессию\n",
    "internet.mb_used.plot(kind='hist', figsize=(15,8), \n",
    "                      grid=True, bins=50, \n",
    "                      title='Распределение объемов расходуемого трафика за один сеанс')"
   ]
  },
  {
   "cell_type": "code",
   "execution_count": 12,
   "metadata": {},
   "outputs": [
    {
     "data": {
      "text/plain": [
       "<matplotlib.axes._subplots.AxesSubplot at 0x7f568d8f4ad0>"
      ]
     },
     "execution_count": 12,
     "metadata": {},
     "output_type": "execute_result"
    },
    {
     "data": {
      "image/png": "[encoded data removed]",
      "text/plain": [
       "<Figure size 1080x576 with 1 Axes>"
      ]
     },
     "metadata": {
      "needs_background": "light"
     },
     "output_type": "display_data"
    }
   ],
   "source": [
    "# избавимся от нулевых значений по аналогии со звонками\n",
    "internet = internet.query('mb_used > 0.0')\n",
    "\n",
    "# округлим длительность в большую сторону, как делает оператор\n",
    "internet['mb_used_ceil'] = internet.mb_used.apply(math.ceil)\n",
    "\n",
    "# оценим новое распределение потраченного трафика за одну сессию\n",
    "internet.mb_used.plot(kind='hist', figsize=(15,8), \n",
    "                      grid=True, bins=50, \n",
    "                      title='Новое распределение объемов расходуемого трафика за один сеанс')"
   ]
  },
  {
   "cell_type": "markdown",
   "metadata": {},
   "source": [
    "И распределение вновь похоже на пуассоновское"
   ]
  },
  {
   "cell_type": "code",
   "execution_count": 13,
   "metadata": {},
   "outputs": [],
   "source": [
    "# изменим тип данных столбца с датой\n",
    "internet['session_date'] = pd.to_datetime(internet['session_date'], format='%Y-%m-%d')\n",
    "\n",
    "# добавим данные о месяце для будущей группировки данных\n",
    "internet['month'] = internet['session_date'].dt.month\n",
    "\n",
    "# сгруппируем данные по user_id, сделав разбивку по месяцам\n",
    "internet_stat = internet.pivot_table(index=['user_id', 'month'],  \n",
    "                               values='mb_used_ceil', \n",
    "                               aggfunc='sum').reset_index()\n",
    "\n",
    "internet_stat.columns = ['user_id', 'month', 'sum_of_internet_mb']"
   ]
  },
  {
   "cell_type": "code",
   "execution_count": 14,
   "metadata": {},
   "outputs": [
    {
     "name": "stdout",
     "output_type": "stream",
     "text": [
      "Данные не потеряны\n"
     ]
    }
   ],
   "source": [
    "# проверка на потерю данных\n",
    "if internet['user_id'].unique().sum() == internet_stat['user_id'].unique().sum():\n",
    "    print('Данные не потеряны')\n",
    "else:\n",
    "    print('Необходимо уточнение')"
   ]
  },
  {
   "cell_type": "markdown",
   "metadata": {},
   "source": [
    "#### Предобработаем данные в таблице 'messages'"
   ]
  },
  {
   "cell_type": "code",
   "execution_count": 15,
   "metadata": {},
   "outputs": [
    {
     "name": "stdout",
     "output_type": "stream",
     "text": [
      "<class 'pandas.core.frame.DataFrame'>\n",
      "RangeIndex: 123036 entries, 0 to 123035\n",
      "Data columns (total 3 columns):\n",
      "id              123036 non-null object\n",
      "message_date    123036 non-null object\n",
      "user_id         123036 non-null int64\n",
      "dtypes: int64(1), object(2)\n",
      "memory usage: 2.8+ MB\n"
     ]
    },
    {
     "data": {
      "text/html": [
       "<div>\n",
       "<style scoped>\n",
       "    .dataframe tbody tr th:only-of-type {\n",
       "        vertical-align: middle;\n",
       "    }\n",
       "\n",
       "    .dataframe tbody tr th {\n",
       "        vertical-align: top;\n",
       "    }\n",
       "\n",
       "    .dataframe thead th {\n",
       "        text-align: right;\n",
       "    }\n",
       "</style>\n",
       "<table border=\"1\" class=\"dataframe\">\n",
       "  <thead>\n",
       "    <tr style=\"text-align: right;\">\n",
       "      <th></th>\n",
       "      <th>id</th>\n",
       "      <th>message_date</th>\n",
       "      <th>user_id</th>\n",
       "    </tr>\n",
       "  </thead>\n",
       "  <tbody>\n",
       "    <tr>\n",
       "      <td>0</td>\n",
       "      <td>1000_0</td>\n",
       "      <td>2018-06-27</td>\n",
       "      <td>1000</td>\n",
       "    </tr>\n",
       "    <tr>\n",
       "      <td>1</td>\n",
       "      <td>1000_1</td>\n",
       "      <td>2018-10-08</td>\n",
       "      <td>1000</td>\n",
       "    </tr>\n",
       "    <tr>\n",
       "      <td>2</td>\n",
       "      <td>1000_2</td>\n",
       "      <td>2018-08-04</td>\n",
       "      <td>1000</td>\n",
       "    </tr>\n",
       "    <tr>\n",
       "      <td>3</td>\n",
       "      <td>1000_3</td>\n",
       "      <td>2018-06-16</td>\n",
       "      <td>1000</td>\n",
       "    </tr>\n",
       "    <tr>\n",
       "      <td>4</td>\n",
       "      <td>1000_4</td>\n",
       "      <td>2018-12-05</td>\n",
       "      <td>1000</td>\n",
       "    </tr>\n",
       "  </tbody>\n",
       "</table>\n",
       "</div>"
      ],
      "text/plain": [
       "       id message_date  user_id\n",
       "0  1000_0   2018-06-27     1000\n",
       "1  1000_1   2018-10-08     1000\n",
       "2  1000_2   2018-08-04     1000\n",
       "3  1000_3   2018-06-16     1000\n",
       "4  1000_4   2018-12-05     1000"
      ]
     },
     "execution_count": 15,
     "metadata": {},
     "output_type": "execute_result"
    }
   ],
   "source": [
    "# получаем первые данные по таблице 'messages'\n",
    "messages.info()\n",
    "messages.head()"
   ]
  },
  {
   "cell_type": "code",
   "execution_count": 16,
   "metadata": {},
   "outputs": [
    {
     "data": {
      "text/html": [
       "<div>\n",
       "<style scoped>\n",
       "    .dataframe tbody tr th:only-of-type {\n",
       "        vertical-align: middle;\n",
       "    }\n",
       "\n",
       "    .dataframe tbody tr th {\n",
       "        vertical-align: top;\n",
       "    }\n",
       "\n",
       "    .dataframe thead th {\n",
       "        text-align: right;\n",
       "    }\n",
       "</style>\n",
       "<table border=\"1\" class=\"dataframe\">\n",
       "  <thead>\n",
       "    <tr style=\"text-align: right;\">\n",
       "      <th></th>\n",
       "      <th>user_id</th>\n",
       "      <th>month</th>\n",
       "      <th>count_of_messages</th>\n",
       "    </tr>\n",
       "  </thead>\n",
       "  <tbody>\n",
       "    <tr>\n",
       "      <td>0</td>\n",
       "      <td>1000</td>\n",
       "      <td>5</td>\n",
       "      <td>22</td>\n",
       "    </tr>\n",
       "    <tr>\n",
       "      <td>1</td>\n",
       "      <td>1000</td>\n",
       "      <td>6</td>\n",
       "      <td>60</td>\n",
       "    </tr>\n",
       "    <tr>\n",
       "      <td>2</td>\n",
       "      <td>1000</td>\n",
       "      <td>7</td>\n",
       "      <td>75</td>\n",
       "    </tr>\n",
       "    <tr>\n",
       "      <td>3</td>\n",
       "      <td>1000</td>\n",
       "      <td>8</td>\n",
       "      <td>81</td>\n",
       "    </tr>\n",
       "    <tr>\n",
       "      <td>4</td>\n",
       "      <td>1000</td>\n",
       "      <td>9</td>\n",
       "      <td>57</td>\n",
       "    </tr>\n",
       "    <tr>\n",
       "      <td>...</td>\n",
       "      <td>...</td>\n",
       "      <td>...</td>\n",
       "      <td>...</td>\n",
       "    </tr>\n",
       "    <tr>\n",
       "      <td>2712</td>\n",
       "      <td>1498</td>\n",
       "      <td>10</td>\n",
       "      <td>42</td>\n",
       "    </tr>\n",
       "    <tr>\n",
       "      <td>2713</td>\n",
       "      <td>1499</td>\n",
       "      <td>9</td>\n",
       "      <td>11</td>\n",
       "    </tr>\n",
       "    <tr>\n",
       "      <td>2714</td>\n",
       "      <td>1499</td>\n",
       "      <td>10</td>\n",
       "      <td>48</td>\n",
       "    </tr>\n",
       "    <tr>\n",
       "      <td>2715</td>\n",
       "      <td>1499</td>\n",
       "      <td>11</td>\n",
       "      <td>59</td>\n",
       "    </tr>\n",
       "    <tr>\n",
       "      <td>2716</td>\n",
       "      <td>1499</td>\n",
       "      <td>12</td>\n",
       "      <td>66</td>\n",
       "    </tr>\n",
       "  </tbody>\n",
       "</table>\n",
       "<p>2717 rows × 3 columns</p>\n",
       "</div>"
      ],
      "text/plain": [
       "      user_id  month  count_of_messages\n",
       "0        1000      5                 22\n",
       "1        1000      6                 60\n",
       "2        1000      7                 75\n",
       "3        1000      8                 81\n",
       "4        1000      9                 57\n",
       "...       ...    ...                ...\n",
       "2712     1498     10                 42\n",
       "2713     1499      9                 11\n",
       "2714     1499     10                 48\n",
       "2715     1499     11                 59\n",
       "2716     1499     12                 66\n",
       "\n",
       "[2717 rows x 3 columns]"
      ]
     },
     "execution_count": 16,
     "metadata": {},
     "output_type": "execute_result"
    }
   ],
   "source": [
    "# изменим тип данных столбца с датой\n",
    "messages['message_date'] = pd.to_datetime(messages['message_date'], format='%Y-%m-%d')\n",
    "\n",
    "# добавим данные о месяце для будущей группировки данных\n",
    "messages['month'] = messages['message_date'].dt.month\n",
    "\n",
    "# сгруппируем данные по user_id, сделав разбивку по месяцам\n",
    "messages_stat = messages.pivot_table(index=['user_id', 'month'],  \n",
    "                               values='message_date', \n",
    "                               aggfunc='count').reset_index()\n",
    "\n",
    "# корректируем названия столбцов\n",
    "messages_stat.columns = ['user_id', 'month', 'count_of_messages']\n",
    "messages_stat"
   ]
  },
  {
   "cell_type": "code",
   "execution_count": 17,
   "metadata": {},
   "outputs": [
    {
     "name": "stdout",
     "output_type": "stream",
     "text": [
      "Данные не потеряны\n"
     ]
    }
   ],
   "source": [
    "# проверка на потерю данных\n",
    "if messages['user_id'].unique().sum() == messages_stat['user_id'].unique().sum():\n",
    "    print('Данные не потеряны')\n",
    "else:\n",
    "    print('Необходимо уточнение')"
   ]
  },
  {
   "cell_type": "markdown",
   "metadata": {},
   "source": [
    "#### Предобработаем данные в таблице 'users'"
   ]
  },
  {
   "cell_type": "code",
   "execution_count": 18,
   "metadata": {},
   "outputs": [
    {
     "name": "stdout",
     "output_type": "stream",
     "text": [
      "<class 'pandas.core.frame.DataFrame'>\n",
      "RangeIndex: 500 entries, 0 to 499\n",
      "Data columns (total 8 columns):\n",
      "user_id       500 non-null int64\n",
      "age           500 non-null int64\n",
      "churn_date    38 non-null object\n",
      "city          500 non-null object\n",
      "first_name    500 non-null object\n",
      "last_name     500 non-null object\n",
      "reg_date      500 non-null object\n",
      "tariff        500 non-null object\n",
      "dtypes: int64(2), object(6)\n",
      "memory usage: 31.4+ KB\n"
     ]
    },
    {
     "data": {
      "text/html": [
       "<div>\n",
       "<style scoped>\n",
       "    .dataframe tbody tr th:only-of-type {\n",
       "        vertical-align: middle;\n",
       "    }\n",
       "\n",
       "    .dataframe tbody tr th {\n",
       "        vertical-align: top;\n",
       "    }\n",
       "\n",
       "    .dataframe thead th {\n",
       "        text-align: right;\n",
       "    }\n",
       "</style>\n",
       "<table border=\"1\" class=\"dataframe\">\n",
       "  <thead>\n",
       "    <tr style=\"text-align: right;\">\n",
       "      <th></th>\n",
       "      <th>user_id</th>\n",
       "      <th>age</th>\n",
       "      <th>churn_date</th>\n",
       "      <th>city</th>\n",
       "      <th>first_name</th>\n",
       "      <th>last_name</th>\n",
       "      <th>reg_date</th>\n",
       "      <th>tariff</th>\n",
       "    </tr>\n",
       "  </thead>\n",
       "  <tbody>\n",
       "    <tr>\n",
       "      <td>0</td>\n",
       "      <td>1000</td>\n",
       "      <td>52</td>\n",
       "      <td>NaN</td>\n",
       "      <td>Краснодар</td>\n",
       "      <td>Рафаил</td>\n",
       "      <td>Верещагин</td>\n",
       "      <td>2018-05-25</td>\n",
       "      <td>ultra</td>\n",
       "    </tr>\n",
       "    <tr>\n",
       "      <td>1</td>\n",
       "      <td>1001</td>\n",
       "      <td>41</td>\n",
       "      <td>NaN</td>\n",
       "      <td>Москва</td>\n",
       "      <td>Иван</td>\n",
       "      <td>Ежов</td>\n",
       "      <td>2018-11-01</td>\n",
       "      <td>smart</td>\n",
       "    </tr>\n",
       "    <tr>\n",
       "      <td>2</td>\n",
       "      <td>1002</td>\n",
       "      <td>59</td>\n",
       "      <td>NaN</td>\n",
       "      <td>Стерлитамак</td>\n",
       "      <td>Евгений</td>\n",
       "      <td>Абрамович</td>\n",
       "      <td>2018-06-17</td>\n",
       "      <td>smart</td>\n",
       "    </tr>\n",
       "    <tr>\n",
       "      <td>3</td>\n",
       "      <td>1003</td>\n",
       "      <td>23</td>\n",
       "      <td>NaN</td>\n",
       "      <td>Москва</td>\n",
       "      <td>Белла</td>\n",
       "      <td>Белякова</td>\n",
       "      <td>2018-08-17</td>\n",
       "      <td>ultra</td>\n",
       "    </tr>\n",
       "    <tr>\n",
       "      <td>4</td>\n",
       "      <td>1004</td>\n",
       "      <td>68</td>\n",
       "      <td>NaN</td>\n",
       "      <td>Новокузнецк</td>\n",
       "      <td>Татьяна</td>\n",
       "      <td>Авдеенко</td>\n",
       "      <td>2018-05-14</td>\n",
       "      <td>ultra</td>\n",
       "    </tr>\n",
       "  </tbody>\n",
       "</table>\n",
       "</div>"
      ],
      "text/plain": [
       "   user_id  age churn_date         city first_name  last_name    reg_date  \\\n",
       "0     1000   52        NaN    Краснодар     Рафаил  Верещагин  2018-05-25   \n",
       "1     1001   41        NaN       Москва       Иван       Ежов  2018-11-01   \n",
       "2     1002   59        NaN  Стерлитамак    Евгений  Абрамович  2018-06-17   \n",
       "3     1003   23        NaN       Москва      Белла   Белякова  2018-08-17   \n",
       "4     1004   68        NaN  Новокузнецк    Татьяна   Авдеенко  2018-05-14   \n",
       "\n",
       "  tariff  \n",
       "0  ultra  \n",
       "1  smart  \n",
       "2  smart  \n",
       "3  ultra  \n",
       "4  ultra  "
      ]
     },
     "execution_count": 18,
     "metadata": {},
     "output_type": "execute_result"
    }
   ],
   "source": [
    "# получаем первые данные по таблице 'users'\n",
    "users.info()\n",
    "users.head()"
   ]
  },
  {
   "cell_type": "code",
   "execution_count": 19,
   "metadata": {},
   "outputs": [
    {
     "name": "stdout",
     "output_type": "stream",
     "text": [
      "<class 'pandas.core.frame.DataFrame'>\n",
      "RangeIndex: 500 entries, 0 to 499\n",
      "Data columns (total 8 columns):\n",
      "user_id       500 non-null int64\n",
      "age           500 non-null int64\n",
      "churn_date    38 non-null datetime64[ns]\n",
      "city          500 non-null object\n",
      "first_name    500 non-null object\n",
      "last_name     500 non-null object\n",
      "reg_date      500 non-null datetime64[ns]\n",
      "tariff        500 non-null object\n",
      "dtypes: datetime64[ns](2), int64(2), object(4)\n",
      "memory usage: 31.4+ KB\n"
     ]
    }
   ],
   "source": [
    "# изменим тип данных столбца с датой\n",
    "users['reg_date'] = pd.to_datetime(users['reg_date'], format='%Y-%m-%d')\n",
    "users['churn_date'] = pd.to_datetime(users['churn_date'], format='%Y-%m-%d')\n",
    "\n",
    "users.info()"
   ]
  },
  {
   "cell_type": "markdown",
   "metadata": {},
   "source": [
    "#### Добавим таблицу с выручкой каждого пользователя"
   ]
  },
  {
   "cell_type": "code",
   "execution_count": 20,
   "metadata": {},
   "outputs": [
    {
     "data": {
      "text/html": [
       "<div>\n",
       "<style scoped>\n",
       "    .dataframe tbody tr th:only-of-type {\n",
       "        vertical-align: middle;\n",
       "    }\n",
       "\n",
       "    .dataframe tbody tr th {\n",
       "        vertical-align: top;\n",
       "    }\n",
       "\n",
       "    .dataframe thead th {\n",
       "        text-align: right;\n",
       "    }\n",
       "</style>\n",
       "<table border=\"1\" class=\"dataframe\">\n",
       "  <thead>\n",
       "    <tr style=\"text-align: right;\">\n",
       "      <th></th>\n",
       "      <th>user_id</th>\n",
       "      <th>tariff</th>\n",
       "      <th>city</th>\n",
       "      <th>churn_date</th>\n",
       "      <th>reg_date</th>\n",
       "      <th>reg_year</th>\n",
       "      <th>reg_month</th>\n",
       "    </tr>\n",
       "  </thead>\n",
       "  <tbody>\n",
       "    <tr>\n",
       "      <td>0</td>\n",
       "      <td>1000</td>\n",
       "      <td>ultra</td>\n",
       "      <td>Краснодар</td>\n",
       "      <td>15</td>\n",
       "      <td>2018-05-25</td>\n",
       "      <td>2018</td>\n",
       "      <td>5</td>\n",
       "    </tr>\n",
       "    <tr>\n",
       "      <td>1</td>\n",
       "      <td>1001</td>\n",
       "      <td>smart</td>\n",
       "      <td>Москва</td>\n",
       "      <td>15</td>\n",
       "      <td>2018-11-01</td>\n",
       "      <td>2018</td>\n",
       "      <td>11</td>\n",
       "    </tr>\n",
       "    <tr>\n",
       "      <td>2</td>\n",
       "      <td>1002</td>\n",
       "      <td>smart</td>\n",
       "      <td>Стерлитамак</td>\n",
       "      <td>15</td>\n",
       "      <td>2018-06-17</td>\n",
       "      <td>2018</td>\n",
       "      <td>6</td>\n",
       "    </tr>\n",
       "    <tr>\n",
       "      <td>3</td>\n",
       "      <td>1003</td>\n",
       "      <td>ultra</td>\n",
       "      <td>Москва</td>\n",
       "      <td>15</td>\n",
       "      <td>2018-08-17</td>\n",
       "      <td>2018</td>\n",
       "      <td>8</td>\n",
       "    </tr>\n",
       "    <tr>\n",
       "      <td>4</td>\n",
       "      <td>1004</td>\n",
       "      <td>ultra</td>\n",
       "      <td>Новокузнецк</td>\n",
       "      <td>15</td>\n",
       "      <td>2018-05-14</td>\n",
       "      <td>2018</td>\n",
       "      <td>5</td>\n",
       "    </tr>\n",
       "    <tr>\n",
       "      <td>...</td>\n",
       "      <td>...</td>\n",
       "      <td>...</td>\n",
       "      <td>...</td>\n",
       "      <td>...</td>\n",
       "      <td>...</td>\n",
       "      <td>...</td>\n",
       "      <td>...</td>\n",
       "    </tr>\n",
       "    <tr>\n",
       "      <td>495</td>\n",
       "      <td>1495</td>\n",
       "      <td>ultra</td>\n",
       "      <td>Иркутск</td>\n",
       "      <td>15</td>\n",
       "      <td>2018-08-28</td>\n",
       "      <td>2018</td>\n",
       "      <td>8</td>\n",
       "    </tr>\n",
       "    <tr>\n",
       "      <td>496</td>\n",
       "      <td>1496</td>\n",
       "      <td>smart</td>\n",
       "      <td>Вологда</td>\n",
       "      <td>15</td>\n",
       "      <td>2018-01-27</td>\n",
       "      <td>2018</td>\n",
       "      <td>1</td>\n",
       "    </tr>\n",
       "    <tr>\n",
       "      <td>497</td>\n",
       "      <td>1497</td>\n",
       "      <td>smart</td>\n",
       "      <td>Челябинск</td>\n",
       "      <td>15</td>\n",
       "      <td>2018-10-09</td>\n",
       "      <td>2018</td>\n",
       "      <td>10</td>\n",
       "    </tr>\n",
       "    <tr>\n",
       "      <td>498</td>\n",
       "      <td>1498</td>\n",
       "      <td>smart</td>\n",
       "      <td>Владикавказ</td>\n",
       "      <td>10</td>\n",
       "      <td>2018-07-19</td>\n",
       "      <td>2018</td>\n",
       "      <td>7</td>\n",
       "    </tr>\n",
       "    <tr>\n",
       "      <td>499</td>\n",
       "      <td>1499</td>\n",
       "      <td>smart</td>\n",
       "      <td>Пермь</td>\n",
       "      <td>15</td>\n",
       "      <td>2018-09-27</td>\n",
       "      <td>2018</td>\n",
       "      <td>9</td>\n",
       "    </tr>\n",
       "  </tbody>\n",
       "</table>\n",
       "<p>500 rows × 7 columns</p>\n",
       "</div>"
      ],
      "text/plain": [
       "     user_id tariff         city  churn_date   reg_date  reg_year  reg_month\n",
       "0       1000  ultra    Краснодар          15 2018-05-25      2018          5\n",
       "1       1001  smart       Москва          15 2018-11-01      2018         11\n",
       "2       1002  smart  Стерлитамак          15 2018-06-17      2018          6\n",
       "3       1003  ultra       Москва          15 2018-08-17      2018          8\n",
       "4       1004  ultra  Новокузнецк          15 2018-05-14      2018          5\n",
       "..       ...    ...          ...         ...        ...       ...        ...\n",
       "495     1495  ultra      Иркутск          15 2018-08-28      2018          8\n",
       "496     1496  smart      Вологда          15 2018-01-27      2018          1\n",
       "497     1497  smart    Челябинск          15 2018-10-09      2018         10\n",
       "498     1498  smart  Владикавказ          10 2018-07-19      2018          7\n",
       "499     1499  smart        Пермь          15 2018-09-27      2018          9\n",
       "\n",
       "[500 rows x 7 columns]"
      ]
     },
     "execution_count": 20,
     "metadata": {},
     "output_type": "execute_result"
    }
   ],
   "source": [
    "# создаем отдельную таблицу с пользователями и их тарифами\n",
    "user_revenue = users.loc[:,['user_id','tariff','city','churn_date','reg_date']]\n",
    "\n",
    "# изменим дату подключения и прекращения пользования тарифом на месячный формат\n",
    "user_revenue['churn_date'] = user_revenue['churn_date'].dt.month.fillna(15).astype(int)\n",
    "user_revenue['reg_year'] = user_revenue['reg_date'].dt.year.astype(int)\n",
    "user_revenue['reg_month'] = user_revenue['reg_date'].dt.month.astype(int)\n",
    "user_revenue"
   ]
  },
  {
   "cell_type": "code",
   "execution_count": 21,
   "metadata": {},
   "outputs": [
    {
     "data": {
      "text/html": [
       "<div>\n",
       "<style scoped>\n",
       "    .dataframe tbody tr th:only-of-type {\n",
       "        vertical-align: middle;\n",
       "    }\n",
       "\n",
       "    .dataframe tbody tr th {\n",
       "        vertical-align: top;\n",
       "    }\n",
       "\n",
       "    .dataframe thead th {\n",
       "        text-align: right;\n",
       "    }\n",
       "</style>\n",
       "<table border=\"1\" class=\"dataframe\">\n",
       "  <thead>\n",
       "    <tr style=\"text-align: right;\">\n",
       "      <th></th>\n",
       "      <th>user_id</th>\n",
       "      <th>month</th>\n",
       "      <th>count_of_messages</th>\n",
       "      <th>tariff</th>\n",
       "    </tr>\n",
       "  </thead>\n",
       "  <tbody>\n",
       "    <tr>\n",
       "      <td>0</td>\n",
       "      <td>1000</td>\n",
       "      <td>5</td>\n",
       "      <td>22</td>\n",
       "      <td>ultra</td>\n",
       "    </tr>\n",
       "    <tr>\n",
       "      <td>1</td>\n",
       "      <td>1000</td>\n",
       "      <td>6</td>\n",
       "      <td>60</td>\n",
       "      <td>ultra</td>\n",
       "    </tr>\n",
       "    <tr>\n",
       "      <td>2</td>\n",
       "      <td>1000</td>\n",
       "      <td>7</td>\n",
       "      <td>75</td>\n",
       "      <td>ultra</td>\n",
       "    </tr>\n",
       "    <tr>\n",
       "      <td>3</td>\n",
       "      <td>1000</td>\n",
       "      <td>8</td>\n",
       "      <td>81</td>\n",
       "      <td>ultra</td>\n",
       "    </tr>\n",
       "    <tr>\n",
       "      <td>4</td>\n",
       "      <td>1000</td>\n",
       "      <td>9</td>\n",
       "      <td>57</td>\n",
       "      <td>ultra</td>\n",
       "    </tr>\n",
       "    <tr>\n",
       "      <td>...</td>\n",
       "      <td>...</td>\n",
       "      <td>...</td>\n",
       "      <td>...</td>\n",
       "      <td>...</td>\n",
       "    </tr>\n",
       "    <tr>\n",
       "      <td>2712</td>\n",
       "      <td>1498</td>\n",
       "      <td>10</td>\n",
       "      <td>42</td>\n",
       "      <td>smart</td>\n",
       "    </tr>\n",
       "    <tr>\n",
       "      <td>2713</td>\n",
       "      <td>1499</td>\n",
       "      <td>9</td>\n",
       "      <td>11</td>\n",
       "      <td>smart</td>\n",
       "    </tr>\n",
       "    <tr>\n",
       "      <td>2714</td>\n",
       "      <td>1499</td>\n",
       "      <td>10</td>\n",
       "      <td>48</td>\n",
       "      <td>smart</td>\n",
       "    </tr>\n",
       "    <tr>\n",
       "      <td>2715</td>\n",
       "      <td>1499</td>\n",
       "      <td>11</td>\n",
       "      <td>59</td>\n",
       "      <td>smart</td>\n",
       "    </tr>\n",
       "    <tr>\n",
       "      <td>2716</td>\n",
       "      <td>1499</td>\n",
       "      <td>12</td>\n",
       "      <td>66</td>\n",
       "      <td>smart</td>\n",
       "    </tr>\n",
       "  </tbody>\n",
       "</table>\n",
       "<p>2717 rows × 4 columns</p>\n",
       "</div>"
      ],
      "text/plain": [
       "      user_id  month  count_of_messages tariff\n",
       "0        1000      5                 22  ultra\n",
       "1        1000      6                 60  ultra\n",
       "2        1000      7                 75  ultra\n",
       "3        1000      8                 81  ultra\n",
       "4        1000      9                 57  ultra\n",
       "...       ...    ...                ...    ...\n",
       "2712     1498     10                 42  smart\n",
       "2713     1499      9                 11  smart\n",
       "2714     1499     10                 48  smart\n",
       "2715     1499     11                 59  smart\n",
       "2716     1499     12                 66  smart\n",
       "\n",
       "[2717 rows x 4 columns]"
      ]
     },
     "execution_count": 21,
     "metadata": {},
     "output_type": "execute_result"
    }
   ],
   "source": [
    "#джойним данные об использованных минутах, сообщениях и гигабайтов\n",
    "minutes_included = user_revenue.merge(calls_stat, on='user_id', how='right')\n",
    "messages_included = user_revenue.merge(messages_stat, on='user_id', how='right')\n",
    "mb_per_month_included = user_revenue.merge(internet_stat, on='user_id', how='right')\n",
    "\n",
    "#продублируем данные для будушего статистического анализа\n",
    "minutes_for_stat = calls_stat\n",
    "messages_for_stat = messages_stat\n",
    "internet_for_stat = internet_stat\n",
    "\n",
    "# выделим информацию о тарифах\n",
    "user_tariff = users.loc[:,['user_id', 'tariff']]\n",
    "\n",
    "# добавим информацию о тарифах в таблицы для статистического анализа\n",
    "minutes_for_stat = minutes_for_stat.merge(user_tariff, on='user_id', how='left')\n",
    "messages_for_stat = messages_for_stat.merge(user_tariff, on='user_id', how='left')\n",
    "internet_for_stat = internet_for_stat.merge(user_tariff, on='user_id', how='left')\n",
    "\n",
    "messages_for_stat"
   ]
  },
  {
   "cell_type": "code",
   "execution_count": 22,
   "metadata": {},
   "outputs": [],
   "source": [
    "# определим функцию, рассчитывающую выручку от использования минут сверх пакета\n",
    "def calls_minutes(row):\n",
    "    if row['tariff'] == 'smart':\n",
    "        if 500 - row['sum_of_calls_min'] < 0:\n",
    "            return (row['sum_of_calls_min'] - 500) * 3\n",
    "        else:\n",
    "            return 0\n",
    "    else:\n",
    "        if 3000 - row['sum_of_calls_min'] < 0:\n",
    "            return (row['sum_of_calls_min'] - 3000) * 1\n",
    "        else:\n",
    "            return 0\n",
    "\n",
    "# аналогично с сообщениями\n",
    "def messages_count(row):\n",
    "    if row['tariff'] == 'smart':\n",
    "        if 50 - row['count_of_messages'] < 0:\n",
    "            return (row['count_of_messages'] - 50) * 3\n",
    "        else:\n",
    "            return 0\n",
    "    else:\n",
    "        if 1000 - row['count_of_messages'] < 0:\n",
    "            return (row['count_of_messages'] - 1000) * 1\n",
    "        else:\n",
    "            return 0   \n",
    "        \n",
    "# аналогично с интернетом\n",
    "def internet_mb(row):\n",
    "    if row['tariff'] == 'smart':\n",
    "        if 15360 - row['sum_of_internet_mb'] < 0:\n",
    "            return (row['sum_of_internet_mb'] - 15360) * 0.2\n",
    "        else:\n",
    "            return 0\n",
    "    else:\n",
    "        if 30720 - row['sum_of_internet_mb'] < 0:\n",
    "            return (row['sum_of_internet_mb'] - 30720) * 0.15\n",
    "        else:\n",
    "            return 0           \n",
    "\n",
    "# применим определенные функции к датасету\n",
    "minutes_included['revenue'] = minutes_included.apply(calls_minutes, axis=1)\n",
    "messages_included['revenue'] = messages_included.apply(messages_count, axis=1)\n",
    "mb_per_month_included['revenue'] = mb_per_month_included.apply(internet_mb, axis=1)"
   ]
  },
  {
   "cell_type": "code",
   "execution_count": 23,
   "metadata": {},
   "outputs": [],
   "source": [
    "# выделим необходимые данные в отдельный датафрейм\n",
    "minutes_revenue = minutes_included.loc[:,['user_id', 'city', 'tariff', 'month', 'revenue']]\n",
    "messages_revenue = messages_included.loc[:,['user_id', 'city', 'tariff', 'month', 'revenue']]\n",
    "internet_revenue = mb_per_month_included.loc[:,['user_id', 'city', 'tariff', 'month', 'revenue']]\n",
    "\n",
    "# объединим информацию о выручке в единый датафрейм\n",
    "total_revenue = pd.concat([minutes_revenue, messages_revenue, internet_revenue])\n",
    "\n",
    "# сгруппируем по комбинации значений ['user_id', 'city', 'tariff', 'month'], \n",
    "# чтобы получить дополнительную выручку сверх базового тарифа\n",
    "user_revenue_grouped = total_revenue.pivot_table(index=['user_id', 'city', 'tariff', 'month'],  \n",
    "                               values='revenue', \n",
    "                               aggfunc='sum').reset_index()\n",
    "\n",
    "# определим функцию, добавляющую базовую стоимость тарифа к каждому наблюдению\n",
    "def tariff_cost(row):\n",
    "    if row['tariff'] == 'ultra':\n",
    "        return row['revenue'] + 1950\n",
    "    else: \n",
    "        return row['revenue'] + 550\n",
    "    \n",
    "# применим функцию к датафрейму\n",
    "user_revenue_grouped['revenue'] = user_revenue_grouped.apply(tariff_cost, axis=1)"
   ]
  },
  {
   "cell_type": "markdown",
   "metadata": {},
   "source": [
    "### Шаг 3. Статистический анализ данных"
   ]
  },
  {
   "cell_type": "code",
   "execution_count": 24,
   "metadata": {
    "scrolled": true
   },
   "outputs": [
    {
     "name": "stdout",
     "output_type": "stream",
     "text": [
      "Статистика использования минут пользователей тарифов Ультра и Смарт\n",
      "\n",
      "Тариф 'Ультра'\n",
      "\n",
      "1) Среднее количество проговоренных минут равно 548 в месяц\n",
      "2) Дисперсия проговоренных минут равна 93240 в месяц\n",
      "3) Среднеквадратическое отклонение проговоренных минут равно 306 в месяц\n",
      "4) Коэффициент вариации проговоренных минут равен 0.56 в месяц\n",
      "\n",
      "Тариф 'Смарт'\n",
      "\n",
      "1) Среднее количество проговоренных минут равно 420 в месяц\n",
      "2) Дисперсия проговоренных минут равна 35703 в месяц\n",
      "3) Среднеквадратическое отклонение проговоренных минут равно 189 в месяц\n",
      "4) Коэффициент вариации проговоренных минут равен 0.34 в месяц\n"
     ]
    },
    {
     "data": {
      "image/png": "[encoded data removed]",
      "text/plain": [
       "<Figure size 576x288 with 1 Axes>"
      ]
     },
     "metadata": {
      "needs_background": "light"
     },
     "output_type": "display_data"
    },
    {
     "name": "stdout",
     "output_type": "stream",
     "text": [
      "\n",
      "\n",
      "Статистика использования сообщений пользователей тарифов Ультра и Смарт\n",
      "\n",
      "Тариф 'Ультра'\n",
      "\n",
      "1) Среднее количество отправленных сообщений равно 62 в месяц\n",
      "2) Дисперсия отправленных сообщений равна 2108 в месяц\n",
      "3) Среднеквадратическое отклонение отправленных сообщений равно 46 в месяц\n",
      "4) Коэффициент вариации отправленных сообщений равен 0.75 в месяц\n",
      "\n",
      "Тариф 'Смарт'\n",
      "\n",
      "1) Среднее количество отправленных сообщений равно 39 в месяц\n",
      "2) Дисперсия отправленных сообщений равна 718 в месяц\n",
      "3) Среднеквадратическое отклонение отправленных сообщений равно 27 в месяц\n",
      "4) Коэффициент вариации отправленных сообщений равен 0.44 в месяц\n"
     ]
    },
    {
     "data": {
      "image/png": "[encoded data removed]",
      "text/plain": [
       "<Figure size 576x288 with 1 Axes>"
      ]
     },
     "metadata": {
      "needs_background": "light"
     },
     "output_type": "display_data"
    },
    {
     "name": "stdout",
     "output_type": "stream",
     "text": [
      "\n",
      "\n",
      "Статистика использования интернета пользователей тарифов Ультра и Смарт\n",
      "\n",
      "Тариф 'Ультра'\n",
      "\n",
      "1) Среднее количество потраченных мегабайт равно 19707 в месяц\n",
      "2) Дисперсия потраченных мегабайт равна 98645117 в месяц\n",
      "3) Среднеквадратическое отклонение потраченных мегабайт равно 9933 в месяц\n",
      "4) Коэффициент вариации потраченных мегабайт равен 0.5 в месяц\n",
      "\n",
      "Тариф 'Смарт'\n",
      "\n",
      "1) Среднее количество потраченных мегабайт равно 16244 в месяц\n",
      "2) Дисперсия потраченных мегабайт равна 34324672 в месяц\n",
      "3) Среднеквадратическое отклонение потраченных мегабайт равно 5859 в месяц\n",
      "4) Коэффициент вариации потраченных мегабайт равен 0.3 в месяц\n"
     ]
    },
    {
     "data": {
      "image/png": "[encoded data removed]",
      "text/plain": [
       "<Figure size 576x288 with 1 Axes>"
      ]
     },
     "metadata": {
      "needs_background": "light"
     },
     "output_type": "display_data"
    },
    {
     "name": "stdout",
     "output_type": "stream",
     "text": [
      "\n",
      "\n"
     ]
    }
   ],
   "source": [
    "# автоматизируем статистический анализ исследуемых переменных\n",
    "stats = {'minutes':['Статистика использования минут пользователей тарифов Ультра и Смарт', \n",
    "                    'проговоренных минут', minutes_for_stat, 'sum_of_calls_min'], \n",
    "         'messages':['Статистика использования сообщений пользователей тарифов Ультра и Смарт', 'отправленных сообщений', messages_for_stat, 'count_of_messages'], \n",
    "         'internet':['Статистика использования интернета пользователей тарифов Ультра и Смарт', 'потраченных мегабайт', internet_for_stat, 'sum_of_internet_mb']}\n",
    "for stat in stats.keys():\n",
    "    print(stats[stat][0])\n",
    "    print()\n",
    "    print(\"Тариф 'Ультра'\")\n",
    "    print()\n",
    "    print('1) Среднее количество', stats[stat][1], 'равно', \n",
    "          math.ceil(stats[stat][2][stats[stat][2]['tariff'] == 'ultra'][stats[stat][3]].mean()), 'в месяц')\n",
    "    print('2) Дисперсия', stats[stat][1], 'равна', \n",
    "          math.ceil(np.var(stats[stat][2][stats[stat][2]['tariff'] == 'ultra'][stats[stat][3]])), 'в месяц')\n",
    "    print('3) Среднеквадратическое отклонение', stats[stat][1], 'равно', \n",
    "          math.ceil(np.std(stats[stat][2][stats[stat][2]['tariff'] == 'ultra'][stats[stat][3]])), 'в месяц')\n",
    "    print('4) Коэффициент вариации', stats[stat][1], 'равен', \n",
    "          round(np.std(stats[stat][2][stats[stat][2]['tariff'] == 'ultra'][stats[stat][3]]) / stats[stat][2][stats[stat][2]['tariff'] == 'ultra'][stats[stat][3]].mean(), 2), 'в месяц')\n",
    "    print()\n",
    "    print(\"Тариф 'Смарт'\")\n",
    "    print()\n",
    "    print('1) Среднее количество', stats[stat][1], 'равно', \n",
    "          math.ceil(stats[stat][2][stats[stat][2]['tariff'] == 'smart'][stats[stat][3]].mean()), 'в месяц')\n",
    "    print('2) Дисперсия', stats[stat][1], 'равна', \n",
    "          math.ceil(np.var(stats[stat][2][stats[stat][2]['tariff'] == 'smart'][stats[stat][3]])), 'в месяц')\n",
    "    print('3) Среднеквадратическое отклонение', stats[stat][1], 'равно', \n",
    "          math.ceil(np.std(stats[stat][2][stats[stat][2]['tariff'] == 'smart'][stats[stat][3]])), 'в месяц')\n",
    "    print('4) Коэффициент вариации', stats[stat][1], 'равен', \n",
    "          round(np.std(stats[stat][2][stats[stat][2]['tariff'] == 'smart'][stats[stat][3]]) / stats[stat][2][stats[stat][2]['tariff'] == 'ultra'][stats[stat][3]].mean(), 2), 'в месяц')\n",
    "   \n",
    "    stats[stat][2][stats[stat][2]['tariff'] == 'ultra'][stats[stat][3]].plot(kind='hist', title=stats[stat][0], figsize=(8,4), bins=25, alpha=0.5)\n",
    "    stats[stat][2][stats[stat][2]['tariff'] == 'smart'][stats[stat][3]].plot(kind='hist', title=stats[stat][0], figsize=(8,4), bins=25, alpha=0.5)\n",
    "    plt.legend(('Ультра', 'Смарт'))\n",
    "    plt.show()\n",
    "    print()\n",
    "    print()"
   ]
  },
  {
   "cell_type": "markdown",
   "metadata": {},
   "source": [
    "#### По результатам расчетов статистических показателей в разрезе тарифов получены следующие выводы:\n",
    "- Распределения использованных минут и интернета больше похоже на нормальное, а сообщений - на пуассоновское;\n",
    "- Клиенты тарифа «Ультра» в среднем потребляют больше минут, сообщений и трафика, чем пользователи тарифа «Смарт», но при этом их коэффициент вариации по данным характеристикам значительно выше (что также видно по графикам, характеристики распределены в гораздо большем диапазоне);\n",
    "- Если судить по средним значениям, пользователи тарифа «Смарт» гораздно эффективнее используют свой тариф, так как большинство значений исследуемвых характеристик лежит в районе верхней границы лимитов тарифа. В случае тарифа «Ультра» мы видим, что мало кто из пользователей использует тариф по-максимуму. Видимо такой тариф подключают те, кому его стоимость не так важна, либо важен только один увеличенный лимит (звонки, смс, интернет), что объясняет такую высокую вариацию факторов.\n",
    "- Вариация использования интернета, вне зависимости от выбранного тарифа, обладает значительно меньшей вариацией, нежели звонки и СМС. Скорее всего, интернет используется в том числе как замена вышесказанным функциям, поэтому его использование более равномерное. \n",
    "\n",
    "Данные выводы подтверждают мое субъективное мнение, что большинству пользователей в современном мире от сотовых операторов нужен именно интернет, так как он заменяет и телефонные звонки, и классические СМС-сообщения, и обладает широким спектром возможностей использования. Именно этот фактор обеспечивает меньшую вариативность распределения использования интернет-трафика по сравнению со звонками и СМС."
   ]
  },
  {
   "cell_type": "markdown",
   "metadata": {},
   "source": [
    "### Шаг 4. Проверка гипотез"
   ]
  },
  {
   "cell_type": "markdown",
   "metadata": {},
   "source": [
    "#### Прежде чем проверять гипотезы, их необходимо сформировать:\n",
    "1) Первая нулевая гипотеза звучит так: средние выручки пользователей тарифов «Ультра» и «Смарт» равны; \n",
    "\n",
    "2) Гипотеза, альтернативная первой нулевой, будет звучать так: средние выручки пользователей тарифов «Ультра» и «Смарт» не равны;\n",
    "\n",
    "3) Вторая гипотеза звучит так: средняя выручка пользователей из Москвы равна средней выручке пользователей из других регионов;\n",
    "\n",
    "4) Гипотеза, альтернативная второй нулевой, будет звучать так: средняя выручка пользователей из Москвы не равна средней выручке пользователей из других регионов.\n",
    "\n",
    "Нулевые гипотизы были сформированы так, чтобы использовать в них знак равенства. Для проверки гипотез будет использован метод сравнения средних значений двух генеральных совокупностей.\n"
   ]
  },
  {
   "cell_type": "code",
   "execution_count": 25,
   "metadata": {},
   "outputs": [
    {
     "name": "stdout",
     "output_type": "stream",
     "text": [
      "p-значение:  4.9340374529548145e-180\n",
      "Отвергаем нулевую гипотезу\n",
      "Если средняя выручка не равна, необходимо выяснить, какой тариф приносит в среднем больше денег\n",
      "Тариф 'Ультра' в среднем приносит больше денег\n"
     ]
    }
   ],
   "source": [
    "# исследуем выборки пользователей разных тарифов\n",
    "ultra = user_revenue_grouped[user_revenue_grouped['tariff'] == 'ultra']['revenue']\n",
    "smart = user_revenue_grouped[user_revenue_grouped['tariff'] == 'smart']['revenue']\n",
    "results = st.ttest_ind(ultra, smart)\n",
    "\n",
    "alpha = .01\n",
    "\n",
    "print('p-значение: ', results.pvalue)\n",
    "if (results.pvalue < alpha):\n",
    "    print(\"Отвергаем нулевую гипотезу\")\n",
    "    print('Если средняя выручка не равна, необходимо выяснить, какой тариф приносит в среднем больше денег')\n",
    "    if smart.mean() < ultra.mean():\n",
    "        print(\"Тариф 'Ультра' в среднем приносит больше денег\")\n",
    "    else:\n",
    "        print(\"Тариф 'Смарт' в среднем приносит больше денег\")\n",
    "else:\n",
    "    print(\"Не получилось отвергнуть нулевую гипотезу\")"
   ]
  },
  {
   "cell_type": "code",
   "execution_count": 26,
   "metadata": {},
   "outputs": [
    {
     "name": "stdout",
     "output_type": "stream",
     "text": [
      "p-значение:  0.48665533627642577\n",
      "Не получилось отвергнуть нулевую гипотезу\n"
     ]
    }
   ],
   "source": [
    "# исследуем выборки пользователей из Москвы и других регионов\n",
    "moscow = user_revenue_grouped[user_revenue_grouped['city'] == 'Москва']['revenue']\n",
    "other = user_revenue_grouped[user_revenue_grouped['city'] != 'Москва']['revenue']\n",
    "results = st.ttest_ind(moscow, other, equal_var = False)\n",
    "\n",
    "alpha = .01\n",
    "\n",
    "print('p-значение: ', results.pvalue)\n",
    "if (results.pvalue < alpha):\n",
    "    print(\"Отвергаем нулевую гипотезу\")\n",
    "else:\n",
    "    print(\"Не получилось отвергнуть нулевую гипотезу\")"
   ]
  },
  {
   "cell_type": "markdown",
   "metadata": {},
   "source": [
    "#### По результатам проверки статистических гипотез получены следующие выводы:\n",
    "- Гипотеза о равенстве выручек пользователей тарифов «Ультра» и «Смарт» была отвергнута, при этом существует 1% вероятность ошибки первого рода, когда выручка данных тарифов в действительности может быть равна. Из этого действует вывод, что скорее всего выручки пользователей разных тарифов отличаются, дополнительный анализ средней выручки по тарифам показывает преимущество в выручке тарифа «Ультра»;\n",
    "- Гипотеза о равенстве выручек пользователей из Москвы и других регионов не была отвергнута, при этом существует достаточно высокая вероятность получить данный результат при верной нулевой гипотизе о равенстве выручек пользователей из Москвы и прочих регионов. Вывод - скорее всего выручка не зависит от того, находится клиент в Москве или нет."
   ]
  },
  {
   "cell_type": "markdown",
   "metadata": {},
   "source": [
    "### Шаг 5. Общий вывод"
   ]
  },
  {
   "cell_type": "markdown",
   "metadata": {},
   "source": [
    "#### По результатам исследования можно сделать следующие выводы:\n",
    "- Пользователи тарифа «Ультра» в среднем потребляют больше минут, СМС и гигабайт, чем пользователи тарифа «Смарт», однако делают это с гораздо большей вариацией;\n",
    "- Выручка пользователей различных тарифов, скорее всего, отличается в пользу тарифа «Ультра». На самом деле, этот вывод интуитивно понятен, учитывая более чем в 3 раза различающуюся базовую стоимость рассматриваемых тарифов. Если использующий тариф «Смарт» пользователь значительно выбивается из лимитов, он непременно перейдет на «Ультра» в целях экономии денежных средств;\n",
    "- Выручка, скорее всего, не зависит от нахождения пользователя в Москве. Большинство пользователей не выходят за пределы бесплатных лимитов тарифов, и, учитывая факт унификации стоимости тарифов для всех регионов, включая Москву, данный вывод так же интуитивно понятен;\n",
    "- СМС-сообщения в традиционном виде начинают вымирать - коэффициент вариации слишком велик, что свидетельствует об усложнении точного прогнозирования использования данного вида коммуникационных услуг. Если поддержка инфраструктуры СМС-сообщений требует больших финансовых вложений, от неё стоит вообще отказаться, так как в будущем из-за развития мессенджеров ситуация будет только усугубляться;\n",
    "- Минуты разговоров, хоть и обладают большой вариацией, остаются одним из важнейших видов коммуникационных услуг на данное время. Однако, когда интернет будет распространен повсеместно, и все больше людей привыкнет звонить друг-другу с помощью мессенджеров, ситуация может значительно усложниться;\n",
    "- Относительно низкая вариация использованного трафика говорит о ключевой роли интернета в услугах мобильных операторов. Интернет постепенно поглощает функцию более традиционных телефонных разговоров и СМС-сообщений, и при этом обладает большим количеством прочих функций. Существует предположение, что в будущем это будет единственная услуга мобильных операторов.\n",
    "\n",
    "Был сделан вывод, что тариф «Ультра» в среднем приносит больше выручки, и поэтому целесообразно направить маркетинговые мероприятия именно на этот тариф, в том числе предлагая пользователям «Смарт» «прокачать» свой тариф."
   ]
  }
 ],
 "metadata": {
  "kernelspec": {
   "display_name": "Python 3",
   "language": "python",
   "name": "python3"
  },
  "language_info": {
   "codemirror_mode": {
    "name": "ipython",
    "version": 3
   },
   "file_extension": ".py",
   "mimetype": "text/x-python",
   "name": "python",
   "nbconvert_exporter": "python",
   "pygments_lexer": "ipython3",
   "version": "3.7.6"
  }
 },
 "nbformat": 4,
 "nbformat_minor": 2
}
