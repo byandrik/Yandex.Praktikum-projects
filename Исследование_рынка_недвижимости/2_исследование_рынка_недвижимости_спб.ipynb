{
 "cells": [
  {
   "cell_type": "markdown",
   "metadata": {},
   "source": [
    "# Исследование объявлений о продаже квартир\n",
    "\n",
    "В вашем распоряжении данные сервиса Яндекс.Недвижимость — архив объявлений о продаже квартир в Санкт-Петербурге и соседних населённых пунктов за несколько лет. Нужно научиться определять рыночную стоимость объектов недвижимости. Ваша задача — установить параметры. Это позволит построить автоматизированную систему: она отследит аномалии и мошенническую деятельность. \n",
    "\n",
    "По каждой квартире на продажу доступны два вида данных. Первые вписаны пользователем, вторые — получены автоматически на основе картографических данных. Например, расстояние до центра, аэропорта, ближайшего парка и водоёма. "
   ]
  },
  {
   "cell_type": "markdown",
   "metadata": {},
   "source": [
    "### Шаг 1. Откройте файл с данными и изучите общую информацию. "
   ]
  },
  {
   "cell_type": "code",
   "execution_count": 59,
   "metadata": {},
   "outputs": [
    {
     "name": "stdout",
     "output_type": "stream",
     "text": [
      "<class 'pandas.core.frame.DataFrame'>\n",
      "RangeIndex: 23699 entries, 0 to 23698\n",
      "Data columns (total 22 columns):\n",
      "total_images            23699 non-null int64\n",
      "last_price              23699 non-null float64\n",
      "total_area              23699 non-null float64\n",
      "first_day_exposition    23699 non-null object\n",
      "rooms                   23699 non-null int64\n",
      "ceiling_height          14504 non-null float64\n",
      "floors_total            23613 non-null float64\n",
      "living_area             21796 non-null float64\n",
      "floor                   23699 non-null int64\n",
      "is_apartment            2775 non-null object\n",
      "studio                  23699 non-null bool\n",
      "open_plan               23699 non-null bool\n",
      "kitchen_area            21421 non-null float64\n",
      "balcony                 12180 non-null float64\n",
      "locality_name           23650 non-null object\n",
      "airports_nearest        18157 non-null float64\n",
      "cityCenters_nearest     18180 non-null float64\n",
      "parks_around3000        18181 non-null float64\n",
      "parks_nearest           8079 non-null float64\n",
      "ponds_around3000        18181 non-null float64\n",
      "ponds_nearest           9110 non-null float64\n",
      "days_exposition         20518 non-null float64\n",
      "dtypes: bool(2), float64(14), int64(3), object(3)\n",
      "memory usage: 3.7+ MB\n"
     ]
    },
    {
     "data": {
      "text/html": [
       "<div>\n",
       "<style scoped>\n",
       "    .dataframe tbody tr th:only-of-type {\n",
       "        vertical-align: middle;\n",
       "    }\n",
       "\n",
       "    .dataframe tbody tr th {\n",
       "        vertical-align: top;\n",
       "    }\n",
       "\n",
       "    .dataframe thead th {\n",
       "        text-align: right;\n",
       "    }\n",
       "</style>\n",
       "<table border=\"1\" class=\"dataframe\">\n",
       "  <thead>\n",
       "    <tr style=\"text-align: right;\">\n",
       "      <th></th>\n",
       "      <th>total_images</th>\n",
       "      <th>last_price</th>\n",
       "      <th>total_area</th>\n",
       "      <th>first_day_exposition</th>\n",
       "      <th>rooms</th>\n",
       "      <th>ceiling_height</th>\n",
       "      <th>floors_total</th>\n",
       "      <th>living_area</th>\n",
       "      <th>floor</th>\n",
       "      <th>is_apartment</th>\n",
       "      <th>...</th>\n",
       "      <th>kitchen_area</th>\n",
       "      <th>balcony</th>\n",
       "      <th>locality_name</th>\n",
       "      <th>airports_nearest</th>\n",
       "      <th>cityCenters_nearest</th>\n",
       "      <th>parks_around3000</th>\n",
       "      <th>parks_nearest</th>\n",
       "      <th>ponds_around3000</th>\n",
       "      <th>ponds_nearest</th>\n",
       "      <th>days_exposition</th>\n",
       "    </tr>\n",
       "  </thead>\n",
       "  <tbody>\n",
       "    <tr>\n",
       "      <td>0</td>\n",
       "      <td>20</td>\n",
       "      <td>13000000.0</td>\n",
       "      <td>108.0</td>\n",
       "      <td>2019-03-07T00:00:00</td>\n",
       "      <td>3</td>\n",
       "      <td>2.70</td>\n",
       "      <td>16.0</td>\n",
       "      <td>51.0</td>\n",
       "      <td>8</td>\n",
       "      <td>NaN</td>\n",
       "      <td>...</td>\n",
       "      <td>25.0</td>\n",
       "      <td>NaN</td>\n",
       "      <td>Санкт-Петербург</td>\n",
       "      <td>18863.0</td>\n",
       "      <td>16028.0</td>\n",
       "      <td>1.0</td>\n",
       "      <td>482.0</td>\n",
       "      <td>2.0</td>\n",
       "      <td>755.0</td>\n",
       "      <td>NaN</td>\n",
       "    </tr>\n",
       "    <tr>\n",
       "      <td>1</td>\n",
       "      <td>7</td>\n",
       "      <td>3350000.0</td>\n",
       "      <td>40.4</td>\n",
       "      <td>2018-12-04T00:00:00</td>\n",
       "      <td>1</td>\n",
       "      <td>NaN</td>\n",
       "      <td>11.0</td>\n",
       "      <td>18.6</td>\n",
       "      <td>1</td>\n",
       "      <td>NaN</td>\n",
       "      <td>...</td>\n",
       "      <td>11.0</td>\n",
       "      <td>2.0</td>\n",
       "      <td>посёлок Шушары</td>\n",
       "      <td>12817.0</td>\n",
       "      <td>18603.0</td>\n",
       "      <td>0.0</td>\n",
       "      <td>NaN</td>\n",
       "      <td>0.0</td>\n",
       "      <td>NaN</td>\n",
       "      <td>81.0</td>\n",
       "    </tr>\n",
       "    <tr>\n",
       "      <td>2</td>\n",
       "      <td>10</td>\n",
       "      <td>5196000.0</td>\n",
       "      <td>56.0</td>\n",
       "      <td>2015-08-20T00:00:00</td>\n",
       "      <td>2</td>\n",
       "      <td>NaN</td>\n",
       "      <td>5.0</td>\n",
       "      <td>34.3</td>\n",
       "      <td>4</td>\n",
       "      <td>NaN</td>\n",
       "      <td>...</td>\n",
       "      <td>8.3</td>\n",
       "      <td>0.0</td>\n",
       "      <td>Санкт-Петербург</td>\n",
       "      <td>21741.0</td>\n",
       "      <td>13933.0</td>\n",
       "      <td>1.0</td>\n",
       "      <td>90.0</td>\n",
       "      <td>2.0</td>\n",
       "      <td>574.0</td>\n",
       "      <td>558.0</td>\n",
       "    </tr>\n",
       "    <tr>\n",
       "      <td>3</td>\n",
       "      <td>0</td>\n",
       "      <td>64900000.0</td>\n",
       "      <td>159.0</td>\n",
       "      <td>2015-07-24T00:00:00</td>\n",
       "      <td>3</td>\n",
       "      <td>NaN</td>\n",
       "      <td>14.0</td>\n",
       "      <td>NaN</td>\n",
       "      <td>9</td>\n",
       "      <td>NaN</td>\n",
       "      <td>...</td>\n",
       "      <td>NaN</td>\n",
       "      <td>0.0</td>\n",
       "      <td>Санкт-Петербург</td>\n",
       "      <td>28098.0</td>\n",
       "      <td>6800.0</td>\n",
       "      <td>2.0</td>\n",
       "      <td>84.0</td>\n",
       "      <td>3.0</td>\n",
       "      <td>234.0</td>\n",
       "      <td>424.0</td>\n",
       "    </tr>\n",
       "    <tr>\n",
       "      <td>4</td>\n",
       "      <td>2</td>\n",
       "      <td>10000000.0</td>\n",
       "      <td>100.0</td>\n",
       "      <td>2018-06-19T00:00:00</td>\n",
       "      <td>2</td>\n",
       "      <td>3.03</td>\n",
       "      <td>14.0</td>\n",
       "      <td>32.0</td>\n",
       "      <td>13</td>\n",
       "      <td>NaN</td>\n",
       "      <td>...</td>\n",
       "      <td>41.0</td>\n",
       "      <td>NaN</td>\n",
       "      <td>Санкт-Петербург</td>\n",
       "      <td>31856.0</td>\n",
       "      <td>8098.0</td>\n",
       "      <td>2.0</td>\n",
       "      <td>112.0</td>\n",
       "      <td>1.0</td>\n",
       "      <td>48.0</td>\n",
       "      <td>121.0</td>\n",
       "    </tr>\n",
       "  </tbody>\n",
       "</table>\n",
       "<p>5 rows × 22 columns</p>\n",
       "</div>"
      ],
      "text/plain": [
       "   total_images  last_price  total_area first_day_exposition  rooms  \\\n",
       "0            20  13000000.0       108.0  2019-03-07T00:00:00      3   \n",
       "1             7   3350000.0        40.4  2018-12-04T00:00:00      1   \n",
       "2            10   5196000.0        56.0  2015-08-20T00:00:00      2   \n",
       "3             0  64900000.0       159.0  2015-07-24T00:00:00      3   \n",
       "4             2  10000000.0       100.0  2018-06-19T00:00:00      2   \n",
       "\n",
       "   ceiling_height  floors_total  living_area  floor is_apartment  ...  \\\n",
       "0            2.70          16.0         51.0      8          NaN  ...   \n",
       "1             NaN          11.0         18.6      1          NaN  ...   \n",
       "2             NaN           5.0         34.3      4          NaN  ...   \n",
       "3             NaN          14.0          NaN      9          NaN  ...   \n",
       "4            3.03          14.0         32.0     13          NaN  ...   \n",
       "\n",
       "   kitchen_area  balcony    locality_name  airports_nearest  \\\n",
       "0          25.0      NaN  Санкт-Петербург           18863.0   \n",
       "1          11.0      2.0   посёлок Шушары           12817.0   \n",
       "2           8.3      0.0  Санкт-Петербург           21741.0   \n",
       "3           NaN      0.0  Санкт-Петербург           28098.0   \n",
       "4          41.0      NaN  Санкт-Петербург           31856.0   \n",
       "\n",
       "  cityCenters_nearest  parks_around3000  parks_nearest  ponds_around3000  \\\n",
       "0             16028.0               1.0          482.0               2.0   \n",
       "1             18603.0               0.0            NaN               0.0   \n",
       "2             13933.0               1.0           90.0               2.0   \n",
       "3              6800.0               2.0           84.0               3.0   \n",
       "4              8098.0               2.0          112.0               1.0   \n",
       "\n",
       "   ponds_nearest  days_exposition  \n",
       "0          755.0              NaN  \n",
       "1            NaN             81.0  \n",
       "2          574.0            558.0  \n",
       "3          234.0            424.0  \n",
       "4           48.0            121.0  \n",
       "\n",
       "[5 rows x 22 columns]"
      ]
     },
     "execution_count": 59,
     "metadata": {},
     "output_type": "execute_result"
    }
   ],
   "source": [
    "# импортируем основные библиотеки\n",
    "import pandas as pd\n",
    "import seaborn as sns\n",
    "import matplotlib.pyplot as plt\n",
    "import numpy as np\n",
    "\n",
    "# читаем файл\n",
    "data = pd.read_csv('/datasets/real_estate_data.csv', sep='\\t')\n",
    "\n",
    "# первая проверка\n",
    "data.info()\n",
    "data.head()"
   ]
  },
  {
   "cell_type": "markdown",
   "metadata": {},
   "source": [
    "### Вывод"
   ]
  },
  {
   "cell_type": "markdown",
   "metadata": {},
   "source": [
    "В ходе первичной проверки данных обнаружено следующее:\n",
    "- Несмотря на то, что цена 'last_price' в каждом наблюдении округлена до рубля, устанавливать целочисленный тип данных нет необходимости - теоретически цена может быть и с копейками;\n",
    "- Неверно определен тип данных столбца 'first_day_exposition' - необходимо установить тип datatime;\n",
    "- Замечены пропуски в столбце 'ceiling_height' - заполним данные медианными значениями;\n",
    "- Замечены пропуски в столбце 'floors_total' - их не много, предполагаю, что это одноэтажные дома;\n",
    "- Замечены пропуски в столбце 'living_area' - предполагаю, что часть из пропущенных данных обусловлена присутсвием нежилого типа объектов;\n",
    "- Замечены пропуски в столбце 'is_apartment' - данный столбец должен иметь тип данных bool, а не object, после обработки пропусков быть не должно;\n",
    "- Замечены пропуски в столбце 'kitchen_area' - необходимо провести дополнительный анализ на причины появления пропусков;\n",
    "- Замечены пропуски и неверный тип данных в столбце 'balcony' - пропуски могут быть объяснены отсутствием балконов. Необходимо изменить тип данных с вещественного на целочисленный - в квартире не может быть полтора балкона;\n",
    "- Замечено незначительное количество пропусков в столбце 'locality_name';\n",
    "- Наличие пропусков в столбцах 'airports_nearest' и 'cityCenters_nearest' можно обосновать тем, что часть объектов недвижимости располагается за пределами городов, поэтому заполнять пропуски мы не будем;\n",
    "- Таким же образом объясняются пропуски в столбцах 'parks_around3000', 'ponds_around3000', помимо этого для данных столбцов неверно определен тип данных - по аналогии с балконами, не может быть полтора парка или водоемов - необходимо изменить тип данных на целочисленный;\n",
    "- Обнаружены пропуски в столбцах 'parks_nearest' и 'ponds_nearest' для тех наблюдений, которые не обладают парками и водоемами в радиусе 3 км. Нет подходящего способа заменить пропущенные данные, так что оставим как есть.\n",
    "- Также необходимо изменить тип данных с вещественного на целочисленный в столбце 'days_exposition' и определить причину появления пропусков."
   ]
  },
  {
   "cell_type": "markdown",
   "metadata": {},
   "source": [
    "### Шаг 2. Предобработка данных"
   ]
  },
  {
   "cell_type": "markdown",
   "metadata": {},
   "source": [
    "#### В первую очередь необходимо заполнить пропуски и изменить типы данных, где это необходимо"
   ]
  },
  {
   "cell_type": "markdown",
   "metadata": {},
   "source": [
    "##### Дата размещения объявления, срок размещения"
   ]
  },
  {
   "cell_type": "code",
   "execution_count": 60,
   "metadata": {},
   "outputs": [],
   "source": [
    "# установим подобающий формат времени\n",
    "data['first_day_exposition'] = pd.to_datetime(data['first_day_exposition'], format='%Y-%m-%dT%H:%M:%S')\n",
    "\n",
    "# заполнять пропуски в столбце 'days_exposition' предполагая, что объявление на текущую дату до сих пор открыто - \n",
    "# нецелесообразно - данные могут быть искажены. \n",
    "\n",
    "# чтобы заменить тип данных на целочисленный, сначала заменяем пропуски на нули, \n",
    "# меняем тип данных, возвращаем пропуски\n",
    "data['days_exposition'] = data['days_exposition'].fillna(0)\n",
    "data['days_exposition'] = data['days_exposition'].astype(int)\n",
    "data['days_exposition'] = data.days_exposition.replace(0, 'NaN')\n"
   ]
  },
  {
   "cell_type": "markdown",
   "metadata": {},
   "source": [
    "<h2> Комментарий студента</h2>\n",
    "\n",
    "Попробовал - выскочила ошибка. Перезапустил все ячейки - ошибка пропала, но на всякий случай вернул, как было :) \n",
    "</div>"
   ]
  },
  {
   "cell_type": "markdown",
   "metadata": {},
   "source": [
    "###### Высота потолков"
   ]
  },
  {
   "cell_type": "code",
   "execution_count": 61,
   "metadata": {},
   "outputs": [],
   "source": [
    "# проверим столбец с данными о высоте потолков на очевидные выбросы\n",
    "data[data['ceiling_height'] > 15.0]['ceiling_height'].value_counts()\n",
    "data[data['ceiling_height'] < 2.0]['ceiling_height'].value_counts()\n",
    "\n",
    "# посчитаем медианную высоту и заполним пропуски\n",
    "data['ceiling_height'] = data['ceiling_height'].fillna(round(data['ceiling_height'].median(),2))"
   ]
  },
  {
   "cell_type": "markdown",
   "metadata": {},
   "source": [
    "##### Количество этажей"
   ]
  },
  {
   "cell_type": "code",
   "execution_count": 62,
   "metadata": {},
   "outputs": [],
   "source": [
    "# проверяем данные на выбросы\n",
    "data['floors_total'].value_counts()\n",
    "\n",
    "# заполняем пропуски единицами\n",
    "data['floors_total'] = data['floors_total'].fillna(1)\n",
    "\n",
    "# заменяем тип данных на целочисленный\n",
    "data['floors_total'] = data['floors_total'].astype(int)\n"
   ]
  },
  {
   "cell_type": "markdown",
   "metadata": {},
   "source": [
    "##### Жилая зона, кухня, наличие балконов"
   ]
  },
  {
   "cell_type": "code",
   "execution_count": 63,
   "metadata": {},
   "outputs": [],
   "source": [
    "# заполним пропуски значений нулями\n",
    "data['living_area'] = data['living_area'].fillna(0)\n",
    "data['kitchen_area'] = data['kitchen_area'].fillna(0)\n",
    "data['balcony'] = data['balcony'].fillna(0)\n",
    "\n",
    "# изменим тип данных столбца 'balcony' на целочисленный\n",
    "data['balcony'] = data['balcony'].astype(int)"
   ]
  },
  {
   "cell_type": "markdown",
   "metadata": {},
   "source": [
    "##### Апартаменты"
   ]
  },
  {
   "cell_type": "code",
   "execution_count": 64,
   "metadata": {},
   "outputs": [],
   "source": [
    "# первичная проверка \n",
    "data['is_apartment'].value_counts()\n",
    "\n",
    "# заменяем пропуски на False - предполагается, что пропуск значений обусловнен тем, что объект не является апартаментом\n",
    "data['is_apartment'] = data['is_apartment'].fillna(False)\n",
    "\n",
    "# проверка \n",
    "data['is_apartment'].value_counts()\n",
    "\n",
    "# изменяем тип данных на логический\n",
    "data['is_apartment'] = data['is_apartment'].astype(bool)"
   ]
  },
  {
   "cell_type": "markdown",
   "metadata": {},
   "source": [
    "##### Населенные пункты"
   ]
  },
  {
   "cell_type": "code",
   "execution_count": 65,
   "metadata": {},
   "outputs": [
    {
     "data": {
      "text/plain": [
       "Санкт-Петербург    15721\n",
       "Мурино               590\n",
       "Кудрово              472\n",
       "Шушары               440\n",
       "Всеволожск           398\n",
       "Пушкин               369\n",
       "Колпино              338\n",
       "Парголово            327\n",
       "Гатчина              307\n",
       "Выборг               237\n",
       "Name: locality_name, dtype: int64"
      ]
     },
     "execution_count": 65,
     "metadata": {},
     "output_type": "execute_result"
    }
   ],
   "source": [
    "# удалим пропуски \n",
    "data['locality_name'] = data['locality_name'].fillna('Неизвестно')\n",
    "\n",
    "# замечены различные написания одних и тех же населенных пунктов, необходимо привести их к единому формату\n",
    "data['locality_name'] = data.locality_name.str.replace('посёлок|поселок|деревня|городского типа|городской','')\n",
    "\n",
    "# определим функцию, удаляющую получившиеся пробелы в начале строки\n",
    "def no_left_space(name):\n",
    "    return name.lstrip()\n",
    "\n",
    "# применим функцию к датасету\n",
    "data['locality_name'] = data['locality_name'].apply(no_left_space)\n",
    "\n",
    "# определим топ-10 населенных пунктов по объявлениям\n",
    "data['locality_name'].value_counts().head(10)"
   ]
  },
  {
   "cell_type": "markdown",
   "metadata": {},
   "source": [
    "##### Количество водоемов и парков в радиусе 3 км"
   ]
  },
  {
   "cell_type": "code",
   "execution_count": 66,
   "metadata": {},
   "outputs": [],
   "source": [
    "# заполняем пропуски нулями, так как парков и водоедом в радиусе 3км не обнаружено\n",
    "data['parks_around3000'] = data['parks_around3000'].fillna(0)\n",
    "data['ponds_around3000'] = data['ponds_around3000'].fillna(0)\n",
    "\n",
    "# изменяем тип данных на целочисленный\n",
    "data['parks_around3000'] = data['parks_around3000'].astype(int)\n",
    "data['ponds_around3000'] = data['ponds_around3000'].astype(int)"
   ]
  },
  {
   "cell_type": "markdown",
   "metadata": {},
   "source": [
    "<h2> Комментарий студента</h2>\n",
    "\n",
    "Принял во внимание!\n",
    "</div>"
   ]
  },
  {
   "cell_type": "markdown",
   "metadata": {},
   "source": [
    "##### Расстояние до центра, аэропорта, ближайших парков и водоемов"
   ]
  },
  {
   "cell_type": "markdown",
   "metadata": {},
   "source": [
    "Нет подходящего способа замены отсутствующих значений, так как установив нулевые значения в пропусках, мы исказим данные. "
   ]
  },
  {
   "cell_type": "markdown",
   "metadata": {},
   "source": [
    "##### Итоговая проверка предобработки данных"
   ]
  },
  {
   "cell_type": "code",
   "execution_count": 67,
   "metadata": {},
   "outputs": [
    {
     "name": "stdout",
     "output_type": "stream",
     "text": [
      "<class 'pandas.core.frame.DataFrame'>\n",
      "RangeIndex: 23699 entries, 0 to 23698\n",
      "Data columns (total 22 columns):\n",
      "total_images            23699 non-null int64\n",
      "last_price              23699 non-null float64\n",
      "total_area              23699 non-null float64\n",
      "first_day_exposition    23699 non-null datetime64[ns]\n",
      "rooms                   23699 non-null int64\n",
      "ceiling_height          23699 non-null float64\n",
      "floors_total            23699 non-null int64\n",
      "living_area             23699 non-null float64\n",
      "floor                   23699 non-null int64\n",
      "is_apartment            23699 non-null bool\n",
      "studio                  23699 non-null bool\n",
      "open_plan               23699 non-null bool\n",
      "kitchen_area            23699 non-null float64\n",
      "balcony                 23699 non-null int64\n",
      "locality_name           23699 non-null object\n",
      "airports_nearest        18157 non-null float64\n",
      "cityCenters_nearest     18180 non-null float64\n",
      "parks_around3000        23699 non-null int64\n",
      "parks_nearest           8079 non-null float64\n",
      "ponds_around3000        23699 non-null int64\n",
      "ponds_nearest           9110 non-null float64\n",
      "days_exposition         23699 non-null object\n",
      "dtypes: bool(3), datetime64[ns](1), float64(9), int64(7), object(2)\n",
      "memory usage: 3.5+ MB\n"
     ]
    },
    {
     "data": {
      "text/html": [
       "<div>\n",
       "<style scoped>\n",
       "    .dataframe tbody tr th:only-of-type {\n",
       "        vertical-align: middle;\n",
       "    }\n",
       "\n",
       "    .dataframe tbody tr th {\n",
       "        vertical-align: top;\n",
       "    }\n",
       "\n",
       "    .dataframe thead th {\n",
       "        text-align: right;\n",
       "    }\n",
       "</style>\n",
       "<table border=\"1\" class=\"dataframe\">\n",
       "  <thead>\n",
       "    <tr style=\"text-align: right;\">\n",
       "      <th></th>\n",
       "      <th>total_images</th>\n",
       "      <th>last_price</th>\n",
       "      <th>total_area</th>\n",
       "      <th>first_day_exposition</th>\n",
       "      <th>rooms</th>\n",
       "      <th>ceiling_height</th>\n",
       "      <th>floors_total</th>\n",
       "      <th>living_area</th>\n",
       "      <th>floor</th>\n",
       "      <th>is_apartment</th>\n",
       "      <th>...</th>\n",
       "      <th>kitchen_area</th>\n",
       "      <th>balcony</th>\n",
       "      <th>locality_name</th>\n",
       "      <th>airports_nearest</th>\n",
       "      <th>cityCenters_nearest</th>\n",
       "      <th>parks_around3000</th>\n",
       "      <th>parks_nearest</th>\n",
       "      <th>ponds_around3000</th>\n",
       "      <th>ponds_nearest</th>\n",
       "      <th>days_exposition</th>\n",
       "    </tr>\n",
       "  </thead>\n",
       "  <tbody>\n",
       "    <tr>\n",
       "      <td>0</td>\n",
       "      <td>20</td>\n",
       "      <td>13000000.0</td>\n",
       "      <td>108.0</td>\n",
       "      <td>2019-03-07</td>\n",
       "      <td>3</td>\n",
       "      <td>2.70</td>\n",
       "      <td>16</td>\n",
       "      <td>51.0</td>\n",
       "      <td>8</td>\n",
       "      <td>False</td>\n",
       "      <td>...</td>\n",
       "      <td>25.0</td>\n",
       "      <td>0</td>\n",
       "      <td>Санкт-Петербург</td>\n",
       "      <td>18863.0</td>\n",
       "      <td>16028.0</td>\n",
       "      <td>1</td>\n",
       "      <td>482.0</td>\n",
       "      <td>2</td>\n",
       "      <td>755.0</td>\n",
       "      <td>NaN</td>\n",
       "    </tr>\n",
       "    <tr>\n",
       "      <td>1</td>\n",
       "      <td>7</td>\n",
       "      <td>3350000.0</td>\n",
       "      <td>40.4</td>\n",
       "      <td>2018-12-04</td>\n",
       "      <td>1</td>\n",
       "      <td>2.65</td>\n",
       "      <td>11</td>\n",
       "      <td>18.6</td>\n",
       "      <td>1</td>\n",
       "      <td>False</td>\n",
       "      <td>...</td>\n",
       "      <td>11.0</td>\n",
       "      <td>2</td>\n",
       "      <td>Шушары</td>\n",
       "      <td>12817.0</td>\n",
       "      <td>18603.0</td>\n",
       "      <td>0</td>\n",
       "      <td>NaN</td>\n",
       "      <td>0</td>\n",
       "      <td>NaN</td>\n",
       "      <td>81</td>\n",
       "    </tr>\n",
       "    <tr>\n",
       "      <td>2</td>\n",
       "      <td>10</td>\n",
       "      <td>5196000.0</td>\n",
       "      <td>56.0</td>\n",
       "      <td>2015-08-20</td>\n",
       "      <td>2</td>\n",
       "      <td>2.65</td>\n",
       "      <td>5</td>\n",
       "      <td>34.3</td>\n",
       "      <td>4</td>\n",
       "      <td>False</td>\n",
       "      <td>...</td>\n",
       "      <td>8.3</td>\n",
       "      <td>0</td>\n",
       "      <td>Санкт-Петербург</td>\n",
       "      <td>21741.0</td>\n",
       "      <td>13933.0</td>\n",
       "      <td>1</td>\n",
       "      <td>90.0</td>\n",
       "      <td>2</td>\n",
       "      <td>574.0</td>\n",
       "      <td>558</td>\n",
       "    </tr>\n",
       "    <tr>\n",
       "      <td>3</td>\n",
       "      <td>0</td>\n",
       "      <td>64900000.0</td>\n",
       "      <td>159.0</td>\n",
       "      <td>2015-07-24</td>\n",
       "      <td>3</td>\n",
       "      <td>2.65</td>\n",
       "      <td>14</td>\n",
       "      <td>0.0</td>\n",
       "      <td>9</td>\n",
       "      <td>False</td>\n",
       "      <td>...</td>\n",
       "      <td>0.0</td>\n",
       "      <td>0</td>\n",
       "      <td>Санкт-Петербург</td>\n",
       "      <td>28098.0</td>\n",
       "      <td>6800.0</td>\n",
       "      <td>2</td>\n",
       "      <td>84.0</td>\n",
       "      <td>3</td>\n",
       "      <td>234.0</td>\n",
       "      <td>424</td>\n",
       "    </tr>\n",
       "    <tr>\n",
       "      <td>4</td>\n",
       "      <td>2</td>\n",
       "      <td>10000000.0</td>\n",
       "      <td>100.0</td>\n",
       "      <td>2018-06-19</td>\n",
       "      <td>2</td>\n",
       "      <td>3.03</td>\n",
       "      <td>14</td>\n",
       "      <td>32.0</td>\n",
       "      <td>13</td>\n",
       "      <td>False</td>\n",
       "      <td>...</td>\n",
       "      <td>41.0</td>\n",
       "      <td>0</td>\n",
       "      <td>Санкт-Петербург</td>\n",
       "      <td>31856.0</td>\n",
       "      <td>8098.0</td>\n",
       "      <td>2</td>\n",
       "      <td>112.0</td>\n",
       "      <td>1</td>\n",
       "      <td>48.0</td>\n",
       "      <td>121</td>\n",
       "    </tr>\n",
       "  </tbody>\n",
       "</table>\n",
       "<p>5 rows × 22 columns</p>\n",
       "</div>"
      ],
      "text/plain": [
       "   total_images  last_price  total_area first_day_exposition  rooms  \\\n",
       "0            20  13000000.0       108.0           2019-03-07      3   \n",
       "1             7   3350000.0        40.4           2018-12-04      1   \n",
       "2            10   5196000.0        56.0           2015-08-20      2   \n",
       "3             0  64900000.0       159.0           2015-07-24      3   \n",
       "4             2  10000000.0       100.0           2018-06-19      2   \n",
       "\n",
       "   ceiling_height  floors_total  living_area  floor  is_apartment  ...  \\\n",
       "0            2.70            16         51.0      8         False  ...   \n",
       "1            2.65            11         18.6      1         False  ...   \n",
       "2            2.65             5         34.3      4         False  ...   \n",
       "3            2.65            14          0.0      9         False  ...   \n",
       "4            3.03            14         32.0     13         False  ...   \n",
       "\n",
       "   kitchen_area  balcony    locality_name  airports_nearest  \\\n",
       "0          25.0        0  Санкт-Петербург           18863.0   \n",
       "1          11.0        2           Шушары           12817.0   \n",
       "2           8.3        0  Санкт-Петербург           21741.0   \n",
       "3           0.0        0  Санкт-Петербург           28098.0   \n",
       "4          41.0        0  Санкт-Петербург           31856.0   \n",
       "\n",
       "  cityCenters_nearest  parks_around3000  parks_nearest  ponds_around3000  \\\n",
       "0             16028.0                 1          482.0                 2   \n",
       "1             18603.0                 0            NaN                 0   \n",
       "2             13933.0                 1           90.0                 2   \n",
       "3              6800.0                 2           84.0                 3   \n",
       "4              8098.0                 2          112.0                 1   \n",
       "\n",
       "   ponds_nearest  days_exposition  \n",
       "0          755.0              NaN  \n",
       "1            NaN               81  \n",
       "2          574.0              558  \n",
       "3          234.0              424  \n",
       "4           48.0              121  \n",
       "\n",
       "[5 rows x 22 columns]"
      ]
     },
     "execution_count": 67,
     "metadata": {},
     "output_type": "execute_result"
    }
   ],
   "source": [
    "data.info()\n",
    "data.head()"
   ]
  },
  {
   "cell_type": "markdown",
   "metadata": {},
   "source": [
    "### Шаг 3. Посчитайте и добавьте в таблицу"
   ]
  },
  {
   "cell_type": "code",
   "execution_count": 68,
   "metadata": {},
   "outputs": [],
   "source": [
    "# добавим данные о стоимости квадрадного метра недвижимости\n",
    "data['price_per_1m'] = round(data['last_price'] / data['total_area'],2)\n",
    "\n",
    "# добавим столбец со стоимостью в миллионах рублей\n",
    "data['last_price_m'] = round(data['last_price'] / 1000000,2)\n",
    "\n",
    "# добавим информацию о дне недели, месяце и годе размещения объявления\n",
    "data['weekday'] = data['first_day_exposition'].dt.weekday\n",
    "data['month'] = data['first_day_exposition'].dt.month\n",
    "data['year'] = data['first_day_exposition'].dt.year\n",
    "\n",
    "# для наглядности приведем цифровой формат к текстовому виду\n",
    "def month_name(month):\n",
    "    if  month == 1:\n",
    "        return 'Январь'\n",
    "    if  month == 2:\n",
    "        return 'Февраль'\n",
    "    if  month == 3:\n",
    "        return 'Март'\n",
    "    if  month == 4:\n",
    "        return 'Апрель'\n",
    "    if  month == 5:\n",
    "        return 'Май'\n",
    "    if  month == 6:\n",
    "        return 'Июнь'\n",
    "    if  month == 7:\n",
    "        return 'Июль'\n",
    "    if  month == 8:\n",
    "        return 'Август'\n",
    "    if  month == 9:\n",
    "        return 'Сентябрь'\n",
    "    if  month == 10:\n",
    "        return 'Октябрь'\n",
    "    if  month == 11:\n",
    "        return 'Ноябрь'\n",
    "    if  month == 12:\n",
    "        return 'Декабрь'\n",
    "\n",
    "def weekday_name(weekday):\n",
    "    if  weekday == 0:\n",
    "        return 'Понедельник'\n",
    "    if  weekday == 1:\n",
    "        return 'Вторник'\n",
    "    if  weekday == 2:\n",
    "        return 'Среда'\n",
    "    if  weekday == 3:\n",
    "        return 'Четверг'\n",
    "    if  weekday == 4:\n",
    "        return 'Пятница'\n",
    "    if  weekday == 5:\n",
    "        return 'Суббота'\n",
    "    if  weekday == 6:\n",
    "        return 'Воскресенье'\n",
    "\n",
    "# применим функции к датасету    \n",
    "data['month'] = data['month'].apply(month_name)\n",
    "data['weekday'] = data['weekday'].apply(weekday_name)\n",
    "\n",
    "# определим функцию, классифицирующую вертикальное расположение объекта недвижимости \n",
    "def first_last_middle(row):\n",
    "    if row['floor'] == 1:\n",
    "        return 'первый'\n",
    "    if row['floor'] == row['floors_total']:\n",
    "        return 'последний'\n",
    "    return 'другой'\n",
    "\n",
    "# применим функцию к датасету\n",
    "data['floor_type'] = data.apply(first_last_middle, axis=1)\n",
    "\n",
    "# добавим информацию о соотношении жилой площади и площади кухни к общей площади\n",
    "def living_to_total(row):\n",
    "    try: \n",
    "        return row['living_area'] / row['total_area']\n",
    "    except:\n",
    "        return 0\n",
    "\n",
    "def kitchen_to_total(row):\n",
    "    try: \n",
    "        return row['kitchen_area'] / row['total_area']\n",
    "    except:\n",
    "        return 0\n",
    "\n",
    "# применим функции к датасету\n",
    "data['living_to_total'] = data.apply(living_to_total, axis=1)    \n",
    "data['kitchen_to_total'] = data.apply(kitchen_to_total, axis=1) "
   ]
  },
  {
   "cell_type": "markdown",
   "metadata": {},
   "source": [
    "<h2> Комментарий студента</h2>\n",
    "\n",
    "Взял на заметку!\n",
    "\n",
    "</div>"
   ]
  },
  {
   "cell_type": "markdown",
   "metadata": {},
   "source": [
    "### Шаг 4. Проведите исследовательский анализ данных и выполните инструкции:"
   ]
  },
  {
   "cell_type": "markdown",
   "metadata": {},
   "source": [
    "#### Изучаем параметры прощади, цены, числа комнат, высоты потолков"
   ]
  },
  {
   "cell_type": "code",
   "execution_count": 69,
   "metadata": {},
   "outputs": [
    {
     "name": "stdout",
     "output_type": "stream",
     "text": [
      "                   Общая площадь, м2\n"
     ]
    },
    {
     "data": {
      "image/png": "[encoded data removed]",
      "text/plain": [
       "<Figure size 432x288 with 1 Axes>"
      ]
     },
     "metadata": {
      "needs_background": "light"
     },
     "output_type": "display_data"
    },
    {
     "name": "stdout",
     "output_type": "stream",
     "text": [
      "                  Стоимость, млн. руб.\n"
     ]
    },
    {
     "data": {
      "image/png": "[encoded data removed]",
      "text/plain": [
       "<Figure size 432x288 with 1 Axes>"
      ]
     },
     "metadata": {
      "needs_background": "light"
     },
     "output_type": "display_data"
    },
    {
     "name": "stdout",
     "output_type": "stream",
     "text": [
      "                   Количество комнат\n"
     ]
    },
    {
     "data": {
      "image/png": "[encoded data removed]",
      "text/plain": [
       "<Figure size 432x288 with 1 Axes>"
      ]
     },
     "metadata": {
      "needs_background": "light"
     },
     "output_type": "display_data"
    },
    {
     "name": "stdout",
     "output_type": "stream",
     "text": [
      "                   Высота потолков, м\n"
     ]
    },
    {
     "data": {
      "image/png": "[encoded data removed]",
      "text/plain": [
       "<Figure size 432x288 with 1 Axes>"
      ]
     },
     "metadata": {
      "needs_background": "light"
     },
     "output_type": "display_data"
    }
   ],
   "source": [
    "# построим гистограммы распределения изучаемых характеристик\n",
    "stat_that_matters = [['total_area', '                   Общая площадь, м2'],\n",
    "                     ['last_price_m', '                  Стоимость, млн. руб.'], \n",
    "                     ['rooms', '                   Количество комнат'],\n",
    "                     ['ceiling_height', '                   Высота потолков, м']\n",
    "                    ]\n",
    "for stat in stat_that_matters:\n",
    "    print(stat[1])\n",
    "    data.boxplot(column=stat[0])\n",
    "    plt.show()"
   ]
  },
  {
   "cell_type": "markdown",
   "metadata": {},
   "source": [
    "<h2> Комментарий студента</h2>\n",
    "\n",
    "- Полагал, что подписей под графиками будет достаточно, но ошибку понял и исправил :)\n",
    "- Также автоматизировал построение графиков, тут это уместно\n",
    "</div>"
   ]
  },
  {
   "cell_type": "markdown",
   "metadata": {},
   "source": [
    "##### Промежуточный вывод\n",
    "\n",
    "В ходе анализа основных параметров обнаружено следующее:\n",
    "- Обнаружены явные выбросы в части данных о высоте потолков: даже в сталинках высота потолков не должна превышать 4 метра, однако сделаем допущение до 6 метров включительно;\n",
    "- Обнаружены объекты недвижимости с огромной площадью, однако нельзя исключать возможность объединения нескольких квартир;\n",
    "- Обнаружены объекты недвижимости с очень высокой ценой, необходимо проанализировать стоимость квадратного метра для таких квартир;\n",
    "- Обнаружены объекты недвижимости с большим количеством комнат - необходимо дополнительно проанализировать среднюю площадь на 1 комнату - значения ниже 10 кв.м должны насторожить;\n",
    "- Обнаружены объекты с нулевым количеством комнат - возможно, что это опечатка - заменим на 1 комнату."
   ]
  },
  {
   "cell_type": "markdown",
   "metadata": {},
   "source": [
    "#### Работа с выбросами"
   ]
  },
  {
   "cell_type": "code",
   "execution_count": 70,
   "metadata": {},
   "outputs": [
    {
     "data": {
      "text/html": [
       "<div>\n",
       "<style scoped>\n",
       "    .dataframe tbody tr th:only-of-type {\n",
       "        vertical-align: middle;\n",
       "    }\n",
       "\n",
       "    .dataframe tbody tr th {\n",
       "        vertical-align: top;\n",
       "    }\n",
       "\n",
       "    .dataframe thead th {\n",
       "        text-align: right;\n",
       "    }\n",
       "</style>\n",
       "<table border=\"1\" class=\"dataframe\">\n",
       "  <thead>\n",
       "    <tr style=\"text-align: right;\">\n",
       "      <th></th>\n",
       "      <th>total_images</th>\n",
       "      <th>last_price</th>\n",
       "      <th>total_area</th>\n",
       "      <th>first_day_exposition</th>\n",
       "      <th>rooms</th>\n",
       "      <th>ceiling_height</th>\n",
       "      <th>floors_total</th>\n",
       "      <th>living_area</th>\n",
       "      <th>floor</th>\n",
       "      <th>is_apartment</th>\n",
       "      <th>...</th>\n",
       "      <th>days_exposition</th>\n",
       "      <th>price_per_1m</th>\n",
       "      <th>last_price_m</th>\n",
       "      <th>weekday</th>\n",
       "      <th>month</th>\n",
       "      <th>year</th>\n",
       "      <th>floor_type</th>\n",
       "      <th>living_to_total</th>\n",
       "      <th>kitchen_to_total</th>\n",
       "      <th>area_per_room</th>\n",
       "    </tr>\n",
       "  </thead>\n",
       "  <tbody>\n",
       "    <tr>\n",
       "      <td>377</td>\n",
       "      <td>10</td>\n",
       "      <td>4110000.0</td>\n",
       "      <td>41.0</td>\n",
       "      <td>2018-02-01</td>\n",
       "      <td>3</td>\n",
       "      <td>2.50</td>\n",
       "      <td>5</td>\n",
       "      <td>28.4</td>\n",
       "      <td>2</td>\n",
       "      <td>False</td>\n",
       "      <td>...</td>\n",
       "      <td>15</td>\n",
       "      <td>100243.90</td>\n",
       "      <td>4.11</td>\n",
       "      <td>Четверг</td>\n",
       "      <td>Февраль</td>\n",
       "      <td>2018</td>\n",
       "      <td>другой</td>\n",
       "      <td>0.692683</td>\n",
       "      <td>0.129268</td>\n",
       "      <td>13.666667</td>\n",
       "    </tr>\n",
       "    <tr>\n",
       "      <td>407</td>\n",
       "      <td>14</td>\n",
       "      <td>2750000.0</td>\n",
       "      <td>41.5</td>\n",
       "      <td>2017-10-04</td>\n",
       "      <td>3</td>\n",
       "      <td>2.65</td>\n",
       "      <td>5</td>\n",
       "      <td>29.6</td>\n",
       "      <td>5</td>\n",
       "      <td>False</td>\n",
       "      <td>...</td>\n",
       "      <td>28</td>\n",
       "      <td>66265.06</td>\n",
       "      <td>2.75</td>\n",
       "      <td>Среда</td>\n",
       "      <td>Октябрь</td>\n",
       "      <td>2017</td>\n",
       "      <td>последний</td>\n",
       "      <td>0.713253</td>\n",
       "      <td>0.127711</td>\n",
       "      <td>13.833333</td>\n",
       "    </tr>\n",
       "    <tr>\n",
       "      <td>516</td>\n",
       "      <td>20</td>\n",
       "      <td>4150000.0</td>\n",
       "      <td>41.3</td>\n",
       "      <td>2018-09-21</td>\n",
       "      <td>3</td>\n",
       "      <td>2.50</td>\n",
       "      <td>5</td>\n",
       "      <td>30.8</td>\n",
       "      <td>5</td>\n",
       "      <td>False</td>\n",
       "      <td>...</td>\n",
       "      <td>20</td>\n",
       "      <td>100484.26</td>\n",
       "      <td>4.15</td>\n",
       "      <td>Пятница</td>\n",
       "      <td>Сентябрь</td>\n",
       "      <td>2018</td>\n",
       "      <td>последний</td>\n",
       "      <td>0.745763</td>\n",
       "      <td>0.133172</td>\n",
       "      <td>13.766667</td>\n",
       "    </tr>\n",
       "    <tr>\n",
       "      <td>542</td>\n",
       "      <td>8</td>\n",
       "      <td>1750000.0</td>\n",
       "      <td>40.0</td>\n",
       "      <td>2016-04-28</td>\n",
       "      <td>5</td>\n",
       "      <td>2.65</td>\n",
       "      <td>5</td>\n",
       "      <td>28.6</td>\n",
       "      <td>1</td>\n",
       "      <td>False</td>\n",
       "      <td>...</td>\n",
       "      <td>127</td>\n",
       "      <td>43750.00</td>\n",
       "      <td>1.75</td>\n",
       "      <td>Четверг</td>\n",
       "      <td>Апрель</td>\n",
       "      <td>2016</td>\n",
       "      <td>первый</td>\n",
       "      <td>0.715000</td>\n",
       "      <td>0.125000</td>\n",
       "      <td>8.000000</td>\n",
       "    </tr>\n",
       "    <tr>\n",
       "      <td>1456</td>\n",
       "      <td>0</td>\n",
       "      <td>3800000.0</td>\n",
       "      <td>42.1</td>\n",
       "      <td>2018-09-21</td>\n",
       "      <td>3</td>\n",
       "      <td>2.50</td>\n",
       "      <td>5</td>\n",
       "      <td>30.0</td>\n",
       "      <td>3</td>\n",
       "      <td>False</td>\n",
       "      <td>...</td>\n",
       "      <td>56</td>\n",
       "      <td>90261.28</td>\n",
       "      <td>3.80</td>\n",
       "      <td>Пятница</td>\n",
       "      <td>Сентябрь</td>\n",
       "      <td>2018</td>\n",
       "      <td>другой</td>\n",
       "      <td>0.712589</td>\n",
       "      <td>0.125891</td>\n",
       "      <td>14.033333</td>\n",
       "    </tr>\n",
       "    <tr>\n",
       "      <td>...</td>\n",
       "      <td>...</td>\n",
       "      <td>...</td>\n",
       "      <td>...</td>\n",
       "      <td>...</td>\n",
       "      <td>...</td>\n",
       "      <td>...</td>\n",
       "      <td>...</td>\n",
       "      <td>...</td>\n",
       "      <td>...</td>\n",
       "      <td>...</td>\n",
       "      <td>...</td>\n",
       "      <td>...</td>\n",
       "      <td>...</td>\n",
       "      <td>...</td>\n",
       "      <td>...</td>\n",
       "      <td>...</td>\n",
       "      <td>...</td>\n",
       "      <td>...</td>\n",
       "      <td>...</td>\n",
       "      <td>...</td>\n",
       "      <td>...</td>\n",
       "    </tr>\n",
       "    <tr>\n",
       "      <td>23102</td>\n",
       "      <td>0</td>\n",
       "      <td>5800000.0</td>\n",
       "      <td>66.0</td>\n",
       "      <td>2017-06-09</td>\n",
       "      <td>5</td>\n",
       "      <td>2.65</td>\n",
       "      <td>5</td>\n",
       "      <td>55.5</td>\n",
       "      <td>1</td>\n",
       "      <td>False</td>\n",
       "      <td>...</td>\n",
       "      <td>21</td>\n",
       "      <td>87878.79</td>\n",
       "      <td>5.80</td>\n",
       "      <td>Пятница</td>\n",
       "      <td>Июнь</td>\n",
       "      <td>2017</td>\n",
       "      <td>первый</td>\n",
       "      <td>0.840909</td>\n",
       "      <td>0.000000</td>\n",
       "      <td>13.200000</td>\n",
       "    </tr>\n",
       "    <tr>\n",
       "      <td>23124</td>\n",
       "      <td>0</td>\n",
       "      <td>3500000.0</td>\n",
       "      <td>41.3</td>\n",
       "      <td>2018-01-11</td>\n",
       "      <td>3</td>\n",
       "      <td>2.55</td>\n",
       "      <td>5</td>\n",
       "      <td>29.5</td>\n",
       "      <td>1</td>\n",
       "      <td>False</td>\n",
       "      <td>...</td>\n",
       "      <td>23</td>\n",
       "      <td>84745.76</td>\n",
       "      <td>3.50</td>\n",
       "      <td>Четверг</td>\n",
       "      <td>Январь</td>\n",
       "      <td>2018</td>\n",
       "      <td>первый</td>\n",
       "      <td>0.714286</td>\n",
       "      <td>0.145278</td>\n",
       "      <td>13.766667</td>\n",
       "    </tr>\n",
       "    <tr>\n",
       "      <td>23305</td>\n",
       "      <td>9</td>\n",
       "      <td>4950000.0</td>\n",
       "      <td>67.0</td>\n",
       "      <td>2018-10-29</td>\n",
       "      <td>5</td>\n",
       "      <td>2.60</td>\n",
       "      <td>5</td>\n",
       "      <td>51.2</td>\n",
       "      <td>1</td>\n",
       "      <td>False</td>\n",
       "      <td>...</td>\n",
       "      <td>89</td>\n",
       "      <td>73880.60</td>\n",
       "      <td>4.95</td>\n",
       "      <td>Понедельник</td>\n",
       "      <td>Октябрь</td>\n",
       "      <td>2018</td>\n",
       "      <td>первый</td>\n",
       "      <td>0.764179</td>\n",
       "      <td>0.111940</td>\n",
       "      <td>13.400000</td>\n",
       "    </tr>\n",
       "    <tr>\n",
       "      <td>23464</td>\n",
       "      <td>12</td>\n",
       "      <td>4250000.0</td>\n",
       "      <td>48.5</td>\n",
       "      <td>2017-05-05</td>\n",
       "      <td>4</td>\n",
       "      <td>2.65</td>\n",
       "      <td>5</td>\n",
       "      <td>37.3</td>\n",
       "      <td>5</td>\n",
       "      <td>False</td>\n",
       "      <td>...</td>\n",
       "      <td>131</td>\n",
       "      <td>87628.87</td>\n",
       "      <td>4.25</td>\n",
       "      <td>Пятница</td>\n",
       "      <td>Май</td>\n",
       "      <td>2017</td>\n",
       "      <td>последний</td>\n",
       "      <td>0.769072</td>\n",
       "      <td>0.109278</td>\n",
       "      <td>12.125000</td>\n",
       "    </tr>\n",
       "    <tr>\n",
       "      <td>23605</td>\n",
       "      <td>14</td>\n",
       "      <td>3650000.0</td>\n",
       "      <td>41.5</td>\n",
       "      <td>2017-11-11</td>\n",
       "      <td>3</td>\n",
       "      <td>2.65</td>\n",
       "      <td>5</td>\n",
       "      <td>31.2</td>\n",
       "      <td>1</td>\n",
       "      <td>False</td>\n",
       "      <td>...</td>\n",
       "      <td>85</td>\n",
       "      <td>87951.81</td>\n",
       "      <td>3.65</td>\n",
       "      <td>Суббота</td>\n",
       "      <td>Ноябрь</td>\n",
       "      <td>2017</td>\n",
       "      <td>первый</td>\n",
       "      <td>0.751807</td>\n",
       "      <td>0.130120</td>\n",
       "      <td>13.833333</td>\n",
       "    </tr>\n",
       "  </tbody>\n",
       "</table>\n",
       "<p>187 rows × 31 columns</p>\n",
       "</div>"
      ],
      "text/plain": [
       "       total_images  last_price  total_area first_day_exposition  rooms  \\\n",
       "377              10   4110000.0        41.0           2018-02-01      3   \n",
       "407              14   2750000.0        41.5           2017-10-04      3   \n",
       "516              20   4150000.0        41.3           2018-09-21      3   \n",
       "542               8   1750000.0        40.0           2016-04-28      5   \n",
       "1456              0   3800000.0        42.1           2018-09-21      3   \n",
       "...             ...         ...         ...                  ...    ...   \n",
       "23102             0   5800000.0        66.0           2017-06-09      5   \n",
       "23124             0   3500000.0        41.3           2018-01-11      3   \n",
       "23305             9   4950000.0        67.0           2018-10-29      5   \n",
       "23464            12   4250000.0        48.5           2017-05-05      4   \n",
       "23605            14   3650000.0        41.5           2017-11-11      3   \n",
       "\n",
       "       ceiling_height  floors_total  living_area  floor  is_apartment  ...  \\\n",
       "377              2.50             5         28.4      2         False  ...   \n",
       "407              2.65             5         29.6      5         False  ...   \n",
       "516              2.50             5         30.8      5         False  ...   \n",
       "542              2.65             5         28.6      1         False  ...   \n",
       "1456             2.50             5         30.0      3         False  ...   \n",
       "...               ...           ...          ...    ...           ...  ...   \n",
       "23102            2.65             5         55.5      1         False  ...   \n",
       "23124            2.55             5         29.5      1         False  ...   \n",
       "23305            2.60             5         51.2      1         False  ...   \n",
       "23464            2.65             5         37.3      5         False  ...   \n",
       "23605            2.65             5         31.2      1         False  ...   \n",
       "\n",
       "       days_exposition  price_per_1m  last_price_m      weekday     month  \\\n",
       "377                 15     100243.90          4.11      Четверг   Февраль   \n",
       "407                 28      66265.06          2.75        Среда   Октябрь   \n",
       "516                 20     100484.26          4.15      Пятница  Сентябрь   \n",
       "542                127      43750.00          1.75      Четверг    Апрель   \n",
       "1456                56      90261.28          3.80      Пятница  Сентябрь   \n",
       "...                ...           ...           ...          ...       ...   \n",
       "23102               21      87878.79          5.80      Пятница      Июнь   \n",
       "23124               23      84745.76          3.50      Четверг    Январь   \n",
       "23305               89      73880.60          4.95  Понедельник   Октябрь   \n",
       "23464              131      87628.87          4.25      Пятница       Май   \n",
       "23605               85      87951.81          3.65      Суббота    Ноябрь   \n",
       "\n",
       "       year  floor_type  living_to_total  kitchen_to_total  area_per_room  \n",
       "377    2018      другой         0.692683          0.129268      13.666667  \n",
       "407    2017   последний         0.713253          0.127711      13.833333  \n",
       "516    2018   последний         0.745763          0.133172      13.766667  \n",
       "542    2016      первый         0.715000          0.125000       8.000000  \n",
       "1456   2018      другой         0.712589          0.125891      14.033333  \n",
       "...     ...         ...              ...               ...            ...  \n",
       "23102  2017      первый         0.840909          0.000000      13.200000  \n",
       "23124  2018      первый         0.714286          0.145278      13.766667  \n",
       "23305  2018      первый         0.764179          0.111940      13.400000  \n",
       "23464  2017   последний         0.769072          0.109278      12.125000  \n",
       "23605  2017      первый         0.751807          0.130120      13.833333  \n",
       "\n",
       "[187 rows x 31 columns]"
      ]
     },
     "execution_count": 70,
     "metadata": {},
     "output_type": "execute_result"
    }
   ],
   "source": [
    "#удалим очевидные выбросы в части высоты потолков\n",
    "data = data.query('2.0 < ceiling_height <= 6.0')\n",
    "\n",
    "# заменим опечатки \n",
    "data['rooms'] = data['rooms'].replace(0, 1)\n",
    "\n",
    "# оценим стоимость квадратного метра для поиска выбросов в части цены\n",
    "data[data['price_per_1m'] > 500000]\n",
    "\n",
    "# создадим столбец с средней площадью на каждую комнату для поиска прочих выбросов\n",
    "data['area_per_room'] = data['total_area'] / data['rooms']\n",
    "\n",
    "# проанализируем выбросы в части количества комнат с помощью средней площади\n",
    "data[data['area_per_room'] < 15]"
   ]
  },
  {
   "cell_type": "markdown",
   "metadata": {},
   "source": [
    "##### Результаты поиска и удаления выбросов:\n",
    "- Выбросы, связанные с некорректной высотой пололков, удалены;\n",
    "- Опасения по поводу выбросов в части цен и количества комнат также не подтвержены - в выборке всего 36 квартир со стоимостью квадратного метра более 500 тыс. руб., при этом цена за квадратный метр не преодолевает отметки в 2 млн. руб. - такая стоимость вполне реальна для объектов класса \"люкс\";\n",
    "- Опасения по поводу количества комнат не подтвержены - в выборке всего 1 объект со средней площадью менее 10 кв.м на комнату.\n"
   ]
  },
  {
   "cell_type": "markdown",
   "metadata": {},
   "source": [
    "#### Построение гистограмм для очищенных данных"
   ]
  },
  {
   "cell_type": "code",
   "execution_count": 71,
   "metadata": {},
   "outputs": [
    {
     "name": "stdout",
     "output_type": "stream",
     "text": [
      "                   Общая площадь, м2\n"
     ]
    },
    {
     "data": {
      "image/png": "[encoded data removed]",
      "text/plain": [
       "<Figure size 432x288 with 1 Axes>"
      ]
     },
     "metadata": {
      "needs_background": "light"
     },
     "output_type": "display_data"
    },
    {
     "name": "stdout",
     "output_type": "stream",
     "text": [
      "                  Стоимость, млн. руб.\n"
     ]
    },
    {
     "data": {
      "image/png": "[encoded data removed]",
      "text/plain": [
       "<Figure size 432x288 with 1 Axes>"
      ]
     },
     "metadata": {
      "needs_background": "light"
     },
     "output_type": "display_data"
    },
    {
     "name": "stdout",
     "output_type": "stream",
     "text": [
      "                   Количество комнат\n"
     ]
    },
    {
     "data": {
      "image/png": "[encoded data removed]",
      "text/plain": [
       "<Figure size 432x288 with 1 Axes>"
      ]
     },
     "metadata": {
      "needs_background": "light"
     },
     "output_type": "display_data"
    },
    {
     "name": "stdout",
     "output_type": "stream",
     "text": [
      "                   Высота потолков, м\n"
     ]
    },
    {
     "data": {
      "image/png": "[encoded data removed]",
      "text/plain": [
       "<Figure size 432x288 with 1 Axes>"
      ]
     },
     "metadata": {
      "needs_background": "light"
     },
     "output_type": "display_data"
    }
   ],
   "source": [
    "# построим гистограммы распределения изучаемых характеристик\n",
    "stat_that_matters = [['total_area', '                   Общая площадь, м2', (0, 500)],\n",
    "                     ['last_price_m', '                  Стоимость, млн. руб.', (0, 40)], \n",
    "                     ['rooms', '                   Количество комнат', (0, 10)],\n",
    "                     ['ceiling_height', '                   Высота потолков, м', (2, 6)]\n",
    "                    ]\n",
    "for stat in stat_that_matters:\n",
    "    print(stat[1])\n",
    "    data[stat[0]].hist(bins=50, range=stat[2])\n",
    "    plt.show()"
   ]
  },
  {
   "cell_type": "markdown",
   "metadata": {},
   "source": [
    "##### По итогам построения гистограмм получены следующие выводы:\n",
    "- Распределение общей площади, цены и высоты потолков можно приравнять к нормальному;\n",
    "- Распределение количества комнат больше похоже на пуассоновское;\n",
    "- Большинство объектов недвижимости имеют площадь от 40 до 60 квадратных метров, стоимость 3.5 - 4.5 млн. руб., 1 или 2 комнаты с высотой потолков около 2.7 метров, что кореллирует с реальным положением на рынке недвижимости Санкт-Петебурга и Ленинградской области."
   ]
  },
  {
   "cell_type": "markdown",
   "metadata": {},
   "source": [
    "<h2> Комментарий студента</h2>\n",
    "\n",
    "Сделано! :) \n",
    "\n",
    "</div>"
   ]
  },
  {
   "cell_type": "markdown",
   "metadata": {},
   "source": [
    "#### Оценка времени продажи квартиры"
   ]
  },
  {
   "cell_type": "code",
   "execution_count": 72,
   "metadata": {},
   "outputs": [
    {
     "data": {
      "image/png": "[encoded data removed]",
      "text/plain": [
       "<Figure size 1080x576 with 1 Axes>"
      ]
     },
     "metadata": {
      "needs_background": "light"
     },
     "output_type": "display_data"
    },
    {
     "name": "stdout",
     "output_type": "stream",
     "text": [
      "Среднее время продажи недвижимости 180 дней\n",
      "Медианное время продажи недвижимости 95 дней\n"
     ]
    }
   ],
   "source": [
    "# построим гистограмму времени продажи объектов недвижимости\n",
    "selltime = data[data['days_exposition'] != 'NaN']['days_exposition']\n",
    "selltime.hist(bins=50, figsize=(15,8))\n",
    "plt.show()\n",
    "\n",
    "# посчитаем среднее и медиану\n",
    "print('Среднее время продажи недвижимости', int(selltime.mean()),'дней')\n",
    "print('Медианное время продажи недвижимости', int(selltime.median()),'дней')"
   ]
  },
  {
   "cell_type": "markdown",
   "metadata": {},
   "source": [
    "##### В ходе анализа времени реализации объектов недвижимости получены следующие выводы:\n",
    "- Среднее и медианное время значительно отличаются - все происходит из-за того, что большинство объектов реализуются в период до 100 дней, однако некоторые объекты могут продаваться и по несколько лет;\n",
    "- Исходя из медианы можно сделать вывод, что половина всех продаж происходит в срок до 95 дней, а перегиб графика заметен на отметке около 200 дней - это время можно и считать ключевой границей между быстрой и длительной продажей."
   ]
  },
  {
   "cell_type": "markdown",
   "metadata": {},
   "source": [
    "#### Оценка влияния различных параметров на стоимость недвижимости"
   ]
  },
  {
   "cell_type": "code",
   "execution_count": 73,
   "metadata": {
    "scrolled": true
   },
   "outputs": [
    {
     "name": "stdout",
     "output_type": "stream",
     "text": [
      "                     last_price_m  total_area     rooms  cityCenters_nearest\n",
      "last_price_m             1.000000    0.653748  0.365335            -0.206789\n",
      "total_area               0.653748    1.000000  0.760247            -0.231586\n",
      "rooms                    0.365335    0.760247  1.000000            -0.187249\n",
      "cityCenters_nearest     -0.206789   -0.231586 -0.187249             1.000000\n"
     ]
    }
   ],
   "source": [
    "# сделаем срез данных\n",
    "that_matters = data.loc[:,['last_price_m', 'total_area', 'rooms', 'cityCenters_nearest']]\n",
    "\n",
    "# рассчитаем корелляцию Пирсона для значимых параметров, выраженных в количественном выражении\n",
    "print(that_matters.corr())"
   ]
  },
  {
   "cell_type": "code",
   "execution_count": 74,
   "metadata": {},
   "outputs": [
    {
     "data": {
      "text/plain": [
       "<matplotlib.axes._subplots.AxesSubplot at 0x7f78a0fde050>"
      ]
     },
     "execution_count": 74,
     "metadata": {},
     "output_type": "execute_result"
    },
    {
     "data": {
      "image/png": "[encoded data removed]",
      "text/plain": [
       "<Figure size 432x288 with 2 Axes>"
      ]
     },
     "metadata": {
      "needs_background": "light"
     },
     "output_type": "display_data"
    }
   ],
   "source": [
    "# построим тепловую карту для большей наглядности\n",
    "sns.heatmap(data=that_matters.corr(), annot=True)"
   ]
  },
  {
   "cell_type": "markdown",
   "metadata": {},
   "source": [
    "<h2> Комментарий студента</h2>\n",
    "\n",
    "Сделано!\n",
    "\n",
    "</div>"
   ]
  },
  {
   "cell_type": "code",
   "execution_count": 75,
   "metadata": {},
   "outputs": [
    {
     "name": "stdout",
     "output_type": "stream",
     "text": [
      "floor_type\n",
      "другой       6.679418\n",
      "первый       4.806374\n",
      "последний    7.365955\n",
      "Name: last_price_m, dtype: float64\n",
      "\n",
      "weekday\n",
      "Воскресенье    6.254071\n",
      "Вторник        6.396148\n",
      "Понедельник    6.517094\n",
      "Пятница        6.376300\n",
      "Среда          6.630023\n",
      "Суббота        6.977680\n",
      "Четверг        6.714249\n",
      "Name: last_price_m, dtype: float64\n",
      "\n",
      "month\n",
      "Август      6.354601\n",
      "Апрель      6.736664\n",
      "Декабрь     7.022712\n",
      "Июль        6.650178\n",
      "Июнь        6.312588\n",
      "Май         6.605165\n",
      "Март        6.365987\n",
      "Ноябрь      6.463276\n",
      "Октябрь     6.244307\n",
      "Сентябрь    6.828216\n",
      "Февраль     6.472417\n",
      "Январь      6.667325\n",
      "Name: last_price_m, dtype: float64\n",
      "\n",
      "year\n",
      "2014    12.087153\n",
      "2015     8.581329\n",
      "2016     6.828436\n",
      "2017     6.590490\n",
      "2018     5.954883\n",
      "2019     6.784403\n",
      "Name: last_price_m, dtype: float64\n"
     ]
    }
   ],
   "source": [
    "# оценим влияние расположения этажа на стоимость\n",
    "print(data.groupby('floor_type')['last_price_m'].mean())\n",
    "print()\n",
    "# оценим влияние даты размещения на стоимость\n",
    "print(data.groupby('weekday')['last_price_m'].mean())\n",
    "print()\n",
    "print(data.groupby('month')['last_price_m'].mean())\n",
    "print()\n",
    "print(data.groupby('year')['last_price_m'].mean())"
   ]
  },
  {
   "cell_type": "markdown",
   "metadata": {},
   "source": [
    "##### В ходе анализа влияния количественных переменных на стоимость недвижимости были получены следующие результаты:\n",
    "- Наибольшее влияние среди количественных переменных оказывает, очевидно, общая площадь объекта недвижимости - коэффициент корелляции составил 0.65;\n",
    "- Следующим по влиянию фактором оказалось количество комнат - корелляция составила 0.37. Само по себе влияние количества комнат на окончательную цену не так велико, однако прослеживается цепная зависимость \"количество комнат - площадь - стоимость недвижимости\", так как количество комнат очень тесно связано с итоговой площадью объекта (коэффициент корелляции 0.76);\n",
    "- На первый взгляд удаленность от центра отрицательно влияет на итоговую стоимость (корелляция отрицательная), однако такой вывод ошибочен, так как эти факторы имеют обратную зависимость (чем ниже расстояние до центра, тем выше стоимость недвижимости). Однако даже если взять корелляцию по модулю, она составит всего 0.21, что свидетельствует о слабой связи. Более подробный анализ этого фактора будет проведен далее.\n",
    "\n",
    "##### В ходе анализа влияния категориальных переменных на стоимость недвижимости были получены следующие результаты:\n",
    "- Квартиры, располагающиеся на первом этаже, в среднем стоят дешевле прочих. В качестве объяснения можно привести тот факт, что в современных домах на первом этаже располагаются коммерческие помещения, соответственно - жилая недвижимость, располагаемая на первых этажах, находится в старых домах, преимущественно хрущевках, что напрямую влияет на её стоимость;\n",
    "- Квартиры, расположенные на последних этажах, в среднем стоят дороше прочих. В качестве обоснования можно привести факт, что на последних этажах зачастую располагаются пентхаусы, имеющие большую площадь и, соответственно, стоящие дороже остальных;\n",
    "- День недели и месяц расположения объявления на площадках продаж практически не влияют на стоимость продажи недвижимости, все расхождения можно списать на погрешность;\n",
    "- Довольно неожиданный момент связан с годом размещения объявления на площадке - средняя стоимость недвижимости, высталенной на продажу в 2014 году, значительно превышает аналогичный показатель за следующие года, при этом в период 2014-2018 гг. средняя стоимость недвижимости продолжала падать. Этот результат можно было бы легко обосновать, если бы стоимость недвижимости измерялась в долларах - в конце 2014 года рубль значительно ослаб, и стоимость недвижимости в долларах значительно просела, однако в данном датасете цены представлены в рублях. Возможно, что после кризиса 2014 года, население предпочитает держать свой капитал в недвижимости, и не продавать её. Либо, наоборот, не обладает достаточным капиталом, чтобы его купить - спрос падает, предложение реагирует на спрос - цены снижаются. "
   ]
  },
  {
   "cell_type": "code",
   "execution_count": 76,
   "metadata": {},
   "outputs": [
    {
     "name": "stdout",
     "output_type": "stream",
     "text": [
      "                 Количество объявлений  Средняя цена м2, руб.\n",
      "locality_name                                                \n",
      "Санкт-Петербург                  15700              114830.46\n",
      "Мурино                             588               86064.82\n",
      "Кудрово                            471               95326.18\n",
      "Шушары                             440               78677.36\n",
      "Всеволожск                         397               68719.32\n",
      "Пушкин                             369              103125.82\n",
      "Колпино                            338               75424.58\n",
      "Парголово                          327               90175.91\n",
      "Гатчина                            306               68757.68\n",
      "Выборг                             235               58238.14\n"
     ]
    }
   ],
   "source": [
    "# определим среднюю стоимость квадратного метра для топ-10 населенных пунктов по количеству объявлений\n",
    "location_stat = data.pivot_table(index='locality_name', values='price_per_1m', aggfunc=['count','mean'])\n",
    "location_stat.columns = ['Количество объявлений', 'Средняя цена м2, руб.']\n",
    "location_stat['Средняя цена м2, руб.'] = round(location_stat['Средняя цена м2, руб.'],2)\n",
    "print(location_stat.sort_values('Количество объявлений', ascending=False).head(10))"
   ]
  },
  {
   "cell_type": "code",
   "execution_count": 77,
   "metadata": {},
   "outputs": [
    {
     "name": "stdout",
     "output_type": "stream",
     "text": [
      "Наибольшая стоимость квадратного метра в Зеленогорск - 115122.8 рублей\n",
      "Наименьная стоимость квадратного метра в Старополье - 11206.22 рублей\n"
     ]
    }
   ],
   "source": [
    "# определим локацию с наиболее и наименее дорогой стоимостью квадратного метра\n",
    "print('Наибольшая стоимость квадратного метра в', \n",
    "      location_stat[location_stat['Средняя цена м2, руб.'] == location_stat['Средняя цена м2, руб.'].max()].index[0],'-', \n",
    "      location_stat['Средняя цена м2, руб.'].max(),'рублей')\n",
    "print('Наименьная стоимость квадратного метра в', \n",
    "      location_stat[location_stat['Средняя цена м2, руб.'] == location_stat['Средняя цена м2, руб.'].min()].index[0],'-', \n",
    "      location_stat['Средняя цена м2, руб.'].min(),'рублей')"
   ]
  },
  {
   "cell_type": "markdown",
   "metadata": {},
   "source": [
    "##### В ходе анализа стоимости квадратного метра в различных населенных пунктах, было выявлено следующее:\n",
    "- Среди топ-10 населенных пунктов по количеству объявлений лидирует, очевидно, Санкт-Петербург. Вторым по средней стоимости квадратного метра жилья является Пушкин - пожалуй, наиболее престижный город в Ленинградской области;\n",
    "- Наибольшая средняя цена квадратного метра наблюдается в Зеленогорске - однако это может быть следствием недостаточно полной выборки;\n",
    "- Наименьшая средняя цена квадратного метра наблюдается в Старополье. "
   ]
  },
  {
   "cell_type": "markdown",
   "metadata": {},
   "source": [
    "#### Определение территории, располагающейся в центре Санкт-Петербурга"
   ]
  },
  {
   "cell_type": "code",
   "execution_count": 78,
   "metadata": {},
   "outputs": [
    {
     "name": "stderr",
     "output_type": "stream",
     "text": [
      "/opt/conda/lib/python3.7/site-packages/ipykernel_launcher.py:5: SettingWithCopyWarning: \n",
      "A value is trying to be set on a copy of a slice from a DataFrame.\n",
      "Try using .loc[row_indexer,col_indexer] = value instead\n",
      "\n",
      "See the caveats in the documentation: http://pandas.pydata.org/pandas-docs/stable/user_guide/indexing.html#returning-a-view-versus-a-copy\n",
      "  \"\"\"\n",
      "/opt/conda/lib/python3.7/site-packages/ipykernel_launcher.py:8: SettingWithCopyWarning: \n",
      "A value is trying to be set on a copy of a slice from a DataFrame.\n",
      "Try using .loc[row_indexer,col_indexer] = value instead\n",
      "\n",
      "See the caveats in the documentation: http://pandas.pydata.org/pandas-docs/stable/user_guide/indexing.html#returning-a-view-versus-a-copy\n",
      "  \n",
      "/opt/conda/lib/python3.7/site-packages/ipykernel_launcher.py:11: SettingWithCopyWarning: \n",
      "A value is trying to be set on a copy of a slice from a DataFrame.\n",
      "Try using .loc[row_indexer,col_indexer] = value instead\n",
      "\n",
      "See the caveats in the documentation: http://pandas.pydata.org/pandas-docs/stable/user_guide/indexing.html#returning-a-view-versus-a-copy\n",
      "  # This is added back by InteractiveShellApp.init_path()\n"
     ]
    },
    {
     "data": {
      "text/plain": [
       "<matplotlib.axes._subplots.AxesSubplot at 0x7f78a102c450>"
      ]
     },
     "execution_count": 78,
     "metadata": {},
     "output_type": "execute_result"
    },
    {
     "data": {
      "image/png": "[encoded data removed]",
      "text/plain": [
       "<Figure size 1080x576 with 1 Axes>"
      ]
     },
     "metadata": {
      "needs_background": "light"
     },
     "output_type": "display_data"
    }
   ],
   "source": [
    "# выберем информацию только по Санкт-Петербургу\n",
    "spb_stat = data.query('locality_name == \"Санкт-Петербург\"')\n",
    "\n",
    "# заполним незначительное количество пропусков медианой\n",
    "spb_stat['cityCenters_nearest'] = spb_stat['cityCenters_nearest'].fillna(spb_stat['cityCenters_nearest'].median())\n",
    "\n",
    "# добавим информацию о расстоянии от центра в километрах\n",
    "spb_stat['cityCenters_nearest_km'] = np.ceil(spb_stat['cityCenters_nearest'] / 1000)\n",
    "\n",
    "# добавим информацию о стоимости каждого километра\n",
    "spb_stat['price_per_km'] = round(spb_stat['last_price'] / spb_stat['cityCenters_nearest_km'],0)\n",
    "\n",
    "# избавимся от нулевых значений\n",
    "#spb_stat = spb_stat[spb_stat['cityCenters_nearest_km'] != 0]\n",
    "\n",
    "spb_stat.pivot_table(index='cityCenters_nearest_km', \n",
    "                     values='price_per_km', \n",
    "                     aggfunc='median').plot(kind='line', figsize=(15,8), \n",
    "                                            xticks=[i for i in range(31)], \n",
    "                                            xlim=(0,31), grid=True)"
   ]
  },
  {
   "cell_type": "markdown",
   "metadata": {},
   "source": [
    "#### Вывод:\n",
    "- Значительный перегиб графика заметен после 4 км от центра - поэтому мы примем эту точку за границу центральной зоны"
   ]
  },
  {
   "cell_type": "markdown",
   "metadata": {},
   "source": [
    "#### Анализ объектов недвижимости, располагающихся в центре Санкт-Петербурга"
   ]
  },
  {
   "cell_type": "code",
   "execution_count": 79,
   "metadata": {},
   "outputs": [
    {
     "name": "stdout",
     "output_type": "stream",
     "text": [
      "                   Общая площадь, м2\n"
     ]
    },
    {
     "data": {
      "image/png": "[encoded data removed]",
      "text/plain": [
       "<Figure size 432x288 with 1 Axes>"
      ]
     },
     "metadata": {
      "needs_background": "light"
     },
     "output_type": "display_data"
    },
    {
     "name": "stdout",
     "output_type": "stream",
     "text": [
      "                  Стоимость, млн. руб.\n"
     ]
    },
    {
     "data": {
      "image/png": "[encoded data removed]",
      "text/plain": [
       "<Figure size 432x288 with 1 Axes>"
      ]
     },
     "metadata": {
      "needs_background": "light"
     },
     "output_type": "display_data"
    },
    {
     "name": "stdout",
     "output_type": "stream",
     "text": [
      "                   Количество комнат\n"
     ]
    },
    {
     "data": {
      "image/png": "[encoded data removed]",
      "text/plain": [
       "<Figure size 432x288 with 1 Axes>"
      ]
     },
     "metadata": {
      "needs_background": "light"
     },
     "output_type": "display_data"
    },
    {
     "name": "stdout",
     "output_type": "stream",
     "text": [
      "                   Высота потолков, м\n"
     ]
    },
    {
     "data": {
      "image/png": "[encoded data removed]",
      "text/plain": [
       "<Figure size 432x288 with 1 Axes>"
      ]
     },
     "metadata": {
      "needs_background": "light"
     },
     "output_type": "display_data"
    }
   ],
   "source": [
    "# выделим в отдельную переменную объекты в центре Санкт-Петербурга\n",
    "royal_data = spb_stat[spb_stat['cityCenters_nearest_km'] <= 4]\n",
    "\n",
    "# построим гистограммы распределения изучаемых характеристик\n",
    "stat_that_matters = [['total_area', '                   Общая площадь, м2', (0, 500)],\n",
    "                     ['last_price_m', '                  Стоимость, млн. руб.', (0, 100)], \n",
    "                     ['rooms', '                   Количество комнат', (0, 20)],\n",
    "                     ['ceiling_height', '                   Высота потолков, м', (2, 6)]\n",
    "                    ]\n",
    "for stat in stat_that_matters:\n",
    "    print(stat[1])\n",
    "    royal_data[stat[0]].hist(bins=50, range=stat[2])\n",
    "    plt.show()"
   ]
  },
  {
   "cell_type": "markdown",
   "metadata": {},
   "source": [
    "\n",
    "<h2> Комментарий студента</h2>\n",
    "\n",
    "- Абсолютно согласен с вашим мнением насчет необходимости использования автоматизированных методов, однако в данном случае это не так удобно, так как каждая гистограмма обладает различными параметрами `range`\n",
    "- Тем не менее, решение найдено, построение графиков автоматизировано!\n",
    "    \n",
    "</div>"
   ]
  },
  {
   "cell_type": "markdown",
   "metadata": {},
   "source": [
    "##### По итогам построения гистограмм получены следующие выводы:\n",
    "- Распределение общей площади и цены, как и в общих данных, можно приравнять к нормальному;\n",
    "- Распределение количества комнат также стало больше похоже на нормальное;\n",
    "- Распределение высоты потолков нельзя назвать типичным, оно характеризуется многообразием;\n",
    "- Большинство объектов недвижимости имеют площадь от 70 до 90 квадратных метров, стоимость 6 - 10 млн. руб., 2 или 3 комнаты с различной высотой потолков;\n",
    "- Все распределения сдвинулись вправо, что является логическим следствием выборки более престижных объектов недвижимости."
   ]
  },
  {
   "cell_type": "code",
   "execution_count": 80,
   "metadata": {},
   "outputs": [
    {
     "data": {
      "text/html": [
       "<div>\n",
       "<style scoped>\n",
       "    .dataframe tbody tr th:only-of-type {\n",
       "        vertical-align: middle;\n",
       "    }\n",
       "\n",
       "    .dataframe tbody tr th {\n",
       "        vertical-align: top;\n",
       "    }\n",
       "\n",
       "    .dataframe thead th {\n",
       "        text-align: right;\n",
       "    }\n",
       "</style>\n",
       "<table border=\"1\" class=\"dataframe\">\n",
       "  <thead>\n",
       "    <tr style=\"text-align: right;\">\n",
       "      <th></th>\n",
       "      <th>last_price_m</th>\n",
       "      <th>total_area</th>\n",
       "      <th>rooms</th>\n",
       "      <th>cityCenters_nearest</th>\n",
       "    </tr>\n",
       "  </thead>\n",
       "  <tbody>\n",
       "    <tr>\n",
       "      <td>last_price_m</td>\n",
       "      <td>1.000000</td>\n",
       "      <td>0.532031</td>\n",
       "      <td>0.244461</td>\n",
       "      <td>-0.093558</td>\n",
       "    </tr>\n",
       "    <tr>\n",
       "      <td>total_area</td>\n",
       "      <td>0.532031</td>\n",
       "      <td>1.000000</td>\n",
       "      <td>0.757255</td>\n",
       "      <td>-0.108078</td>\n",
       "    </tr>\n",
       "    <tr>\n",
       "      <td>rooms</td>\n",
       "      <td>0.244461</td>\n",
       "      <td>0.757255</td>\n",
       "      <td>1.000000</td>\n",
       "      <td>-0.049940</td>\n",
       "    </tr>\n",
       "    <tr>\n",
       "      <td>cityCenters_nearest</td>\n",
       "      <td>-0.093558</td>\n",
       "      <td>-0.108078</td>\n",
       "      <td>-0.049940</td>\n",
       "      <td>1.000000</td>\n",
       "    </tr>\n",
       "  </tbody>\n",
       "</table>\n",
       "</div>"
      ],
      "text/plain": [
       "                     last_price_m  total_area     rooms  cityCenters_nearest\n",
       "last_price_m             1.000000    0.532031  0.244461            -0.093558\n",
       "total_area               0.532031    1.000000  0.757255            -0.108078\n",
       "rooms                    0.244461    0.757255  1.000000            -0.049940\n",
       "cityCenters_nearest     -0.093558   -0.108078 -0.049940             1.000000"
      ]
     },
     "execution_count": 80,
     "metadata": {},
     "output_type": "execute_result"
    }
   ],
   "source": [
    "# сделаем срез данных\n",
    "that_matters_spb = royal_data.loc[:,['last_price_m', 'total_area', 'rooms', 'cityCenters_nearest']]\n",
    "\n",
    "# рассчитаем корелляцию Пирсона для значимых параметров, выраженных в количественном выражении\n",
    "that_matters_spb.corr()"
   ]
  },
  {
   "cell_type": "code",
   "execution_count": 81,
   "metadata": {},
   "outputs": [
    {
     "name": "stdout",
     "output_type": "stream",
     "text": [
      "floor_type\n",
      "другой       16.356621\n",
      "первый        9.586463\n",
      "последний    19.110000\n",
      "Name: last_price_m, dtype: float64\n",
      "\n",
      "weekday\n",
      "Воскресенье    15.287313\n",
      "Вторник        16.088511\n",
      "Понедельник    14.394706\n",
      "Пятница        14.035308\n",
      "Среда          16.015876\n",
      "Суббота        25.999868\n",
      "Четверг        15.982869\n",
      "Name: last_price_m, dtype: float64\n",
      "\n",
      "month\n",
      "Август      16.248919\n",
      "Апрель      17.610783\n",
      "Декабрь     16.569880\n",
      "Июль        14.587551\n",
      "Июнь        13.022235\n",
      "Май         11.696500\n",
      "Март        16.272881\n",
      "Ноябрь      14.167805\n",
      "Октябрь     13.554787\n",
      "Сентябрь    21.766832\n",
      "Февраль     17.071008\n",
      "Январь      17.836234\n",
      "Name: last_price_m, dtype: float64\n",
      "\n",
      "year\n",
      "2014    34.398889\n",
      "2015    20.114153\n",
      "2016    15.832925\n",
      "2017    16.100935\n",
      "2018    13.544500\n",
      "2019    17.638810\n",
      "Name: last_price_m, dtype: float64\n"
     ]
    }
   ],
   "source": [
    "# оценим влияние расположения этажа на стоимость\n",
    "print(royal_data.groupby('floor_type')['last_price_m'].mean())\n",
    "print()\n",
    "# оценим влияние даты размещения на стоимость\n",
    "print(royal_data.groupby('weekday')['last_price_m'].mean())\n",
    "print()\n",
    "print(royal_data.groupby('month')['last_price_m'].mean())\n",
    "print()\n",
    "print(royal_data.groupby('year')['last_price_m'].mean())"
   ]
  },
  {
   "cell_type": "markdown",
   "metadata": {},
   "source": [
    "##### В ходе анализа влияния количественных переменных на стоимость недвижимости были получены следующие результаты:\n",
    "- Наиболее влияющим на стоимость фактором по-прежнему остается площадь объектов недвижимости, однако коэффициент корелляции снизился до 0.53;\n",
    "- Вторым по значимости количественным фактором осталось количество комнат с коэффициентом корелляции 0.24;\n",
    "- Расстояние до центра, как и прошлые 2 фактора, стало меньше влиять на стоимость объектов недвижимости;\n",
    "- Можно сделать вывод, что для жилья в центре города объективные факторы перестают иметь решающее значение, и на первое место выходят субъективные, эмоциональные характеристики. Это же и подтверждает рост многообразия объектов недвижимости.\n",
    "\n",
    "##### В ходе анализа влияния категориальных переменных на стоимость недвижимости были получены следующие результаты:\n",
    "- Этажность, как и ранее, оказывает значительное влияние на стоимость недвижимости - наибольшей стоимостью обладают пентхаусы, наименьшей - объекты на первом этаже;\n",
    "- День недели и месяц выставления объявления оказываюи гораздо большее влияние на цену недвижимости, однако этот факт нельзя обосновать объективными причинами - скорее всего сказывается недостаточный объем выборки, который стал более чем в 20 раз меньше;\n",
    "- Год подачи объявлений, как и ранее, значительно влияет на стоимость недвижимости, хоть и имеет больший разброс всвязи с малой выборкой."
   ]
  },
  {
   "cell_type": "markdown",
   "metadata": {},
   "source": [
    "#### Оценка времени продажи недвижимости в центре Санкт-Петербурга\n",
    "Проведем небольшое дополнительное исследование, которое подтвердит или опровергнет полученные выводы"
   ]
  },
  {
   "cell_type": "code",
   "execution_count": 82,
   "metadata": {},
   "outputs": [
    {
     "data": {
      "image/png": "[encoded data removed]",
      "text/plain": [
       "<Figure size 1080x576 with 1 Axes>"
      ]
     },
     "metadata": {
      "needs_background": "light"
     },
     "output_type": "display_data"
    },
    {
     "name": "stdout",
     "output_type": "stream",
     "text": [
      "Среднее время продажи недвижимости 254 дней\n",
      "Медианное время продажи недвижимости 142 дней\n"
     ]
    }
   ],
   "source": [
    "# построим гистограмму времени продажи объектов недвижимости в центре Санкт-Петербурга\n",
    "royal_selltime = royal_data[royal_data['days_exposition'] != 'NaN']['days_exposition']\n",
    "royal_selltime.hist(bins=50, figsize=(15,8))\n",
    "plt.show()\n",
    "\n",
    "# посчитаем среднее и медиану\n",
    "print('Среднее время продажи недвижимости', int(royal_selltime.mean()),'дней')\n",
    "print('Медианное время продажи недвижимости', int(royal_selltime.median()),'дней')"
   ]
  },
  {
   "cell_type": "markdown",
   "metadata": {},
   "source": [
    "#### Выводы:\n",
    "- И среднее, и медианное время продажи недвижимости стали выше, чем в первично анализируемой выборке;\n",
    "- Данный результат также свидетельствует об увеличенном многообразии объектов недвижимости, влиянии субъективных факторов как на спрос, так и на предложение."
   ]
  },
  {
   "cell_type": "markdown",
   "metadata": {},
   "source": [
    "### Шаг 5. Общий вывод"
   ]
  },
  {
   "cell_type": "markdown",
   "metadata": {},
   "source": [
    "##### В ходе проведенного анализа получены следующие выводы:\n",
    "- Для массового сегмента ключевым фактором оценки стоимости недвижимости является площадь помещения, косвенным фактором - количество комнат, больше связанного с площадью, нежели с конечной ценой, а близость к центру оказывает большее влияние, чем на само жилье в центре. В целом полученных выводов достаточно, чтобы с высокой точностью прогнозировать стоимость недвижимости;\n",
    "- Сегмент более премиального жилья в меньшей степени подвержен влиянию объективных факторов, а также характеризуется большим многообразием. При этом площадь остается хорошим предиктором для определения стоимости, хоть её влияние и снижается. Для большей точности прогнозирования требуется получить больше данных.\n",
    "\n",
    "#### Какие данные было бы полезно получить в следующий раз:\n",
    "- Год постройки дома - для определения потенциальных рисков и возможностей;\n",
    "- Район города - для лучшей апроксимации данных;\n",
    "- Близость к метро - для дополнительной надбавки или снижения стоимости недвижимости;\n",
    "- Класс сооружения по информации застройщика (эконом, комфорт, бизнес-класс) - для определения степени потери или прибавки стоимости.\n",
    "\n"
   ]
  }
 ],
 "metadata": {
  "kernelspec": {
   "display_name": "Python 3",
   "language": "python",
   "name": "python3"
  },
  "language_info": {
   "codemirror_mode": {
    "name": "ipython",
    "version": 3
   },
   "file_extension": ".py",
   "mimetype": "text/x-python",
   "name": "python",
   "nbconvert_exporter": "python",
   "pygments_lexer": "ipython3",
   "version": "3.7.6"
  }
 },
 "nbformat": 4,
 "nbformat_minor": 2
}
