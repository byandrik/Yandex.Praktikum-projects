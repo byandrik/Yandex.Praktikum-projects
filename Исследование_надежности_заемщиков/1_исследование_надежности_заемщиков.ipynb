{
 "cells": [
  {
   "cell_type": "markdown",
   "metadata": {},
   "source": [
    "## Исследование надёжности заёмщиков\n",
    "\n",
    "Заказчик — кредитный отдел банка. Нужно разобраться, влияет ли семейное положение и количество детей клиента на факт погашения кредита в срок. Входные данные от банка — статистика о платёжеспособности клиентов.\n",
    "\n",
    "Результаты исследования будут учтены при построении модели **кредитного скоринга** — специальной системы, которая оценивает способность потенциального заёмщика вернуть кредит банку."
   ]
  },
  {
   "cell_type": "markdown",
   "metadata": {},
   "source": [
    "### Шаг 1. Откройте файл с данными и изучите общую информацию. "
   ]
  },
  {
   "cell_type": "code",
   "execution_count": 2,
   "metadata": {},
   "outputs": [
    {
     "name": "stdout",
     "output_type": "stream",
     "text": [
      "<class 'pandas.core.frame.DataFrame'>\n",
      "RangeIndex: 21525 entries, 0 to 21524\n",
      "Data columns (total 12 columns):\n",
      "children            21525 non-null int64\n",
      "days_employed       19351 non-null float64\n",
      "dob_years           21525 non-null int64\n",
      "education           21525 non-null object\n",
      "education_id        21525 non-null int64\n",
      "family_status       21525 non-null object\n",
      "family_status_id    21525 non-null int64\n",
      "gender              21525 non-null object\n",
      "income_type         21525 non-null object\n",
      "debt                21525 non-null int64\n",
      "total_income        19351 non-null float64\n",
      "purpose             21525 non-null object\n",
      "dtypes: float64(2), int64(5), object(5)\n",
      "memory usage: 2.0+ MB\n"
     ]
    },
    {
     "data": {
      "text/html": [
       "<div>\n",
       "<style scoped>\n",
       "    .dataframe tbody tr th:only-of-type {\n",
       "        vertical-align: middle;\n",
       "    }\n",
       "\n",
       "    .dataframe tbody tr th {\n",
       "        vertical-align: top;\n",
       "    }\n",
       "\n",
       "    .dataframe thead th {\n",
       "        text-align: right;\n",
       "    }\n",
       "</style>\n",
       "<table border=\"1\" class=\"dataframe\">\n",
       "  <thead>\n",
       "    <tr style=\"text-align: right;\">\n",
       "      <th></th>\n",
       "      <th>children</th>\n",
       "      <th>days_employed</th>\n",
       "      <th>dob_years</th>\n",
       "      <th>education</th>\n",
       "      <th>education_id</th>\n",
       "      <th>family_status</th>\n",
       "      <th>family_status_id</th>\n",
       "      <th>gender</th>\n",
       "      <th>income_type</th>\n",
       "      <th>debt</th>\n",
       "      <th>total_income</th>\n",
       "      <th>purpose</th>\n",
       "    </tr>\n",
       "  </thead>\n",
       "  <tbody>\n",
       "    <tr>\n",
       "      <td>0</td>\n",
       "      <td>1</td>\n",
       "      <td>-8437.673028</td>\n",
       "      <td>42</td>\n",
       "      <td>высшее</td>\n",
       "      <td>0</td>\n",
       "      <td>женат / замужем</td>\n",
       "      <td>0</td>\n",
       "      <td>F</td>\n",
       "      <td>сотрудник</td>\n",
       "      <td>0</td>\n",
       "      <td>253875.639453</td>\n",
       "      <td>покупка жилья</td>\n",
       "    </tr>\n",
       "    <tr>\n",
       "      <td>1</td>\n",
       "      <td>1</td>\n",
       "      <td>-4024.803754</td>\n",
       "      <td>36</td>\n",
       "      <td>среднее</td>\n",
       "      <td>1</td>\n",
       "      <td>женат / замужем</td>\n",
       "      <td>0</td>\n",
       "      <td>F</td>\n",
       "      <td>сотрудник</td>\n",
       "      <td>0</td>\n",
       "      <td>112080.014102</td>\n",
       "      <td>приобретение автомобиля</td>\n",
       "    </tr>\n",
       "    <tr>\n",
       "      <td>2</td>\n",
       "      <td>0</td>\n",
       "      <td>-5623.422610</td>\n",
       "      <td>33</td>\n",
       "      <td>Среднее</td>\n",
       "      <td>1</td>\n",
       "      <td>женат / замужем</td>\n",
       "      <td>0</td>\n",
       "      <td>M</td>\n",
       "      <td>сотрудник</td>\n",
       "      <td>0</td>\n",
       "      <td>145885.952297</td>\n",
       "      <td>покупка жилья</td>\n",
       "    </tr>\n",
       "    <tr>\n",
       "      <td>3</td>\n",
       "      <td>3</td>\n",
       "      <td>-4124.747207</td>\n",
       "      <td>32</td>\n",
       "      <td>среднее</td>\n",
       "      <td>1</td>\n",
       "      <td>женат / замужем</td>\n",
       "      <td>0</td>\n",
       "      <td>M</td>\n",
       "      <td>сотрудник</td>\n",
       "      <td>0</td>\n",
       "      <td>267628.550329</td>\n",
       "      <td>дополнительное образование</td>\n",
       "    </tr>\n",
       "    <tr>\n",
       "      <td>4</td>\n",
       "      <td>0</td>\n",
       "      <td>340266.072047</td>\n",
       "      <td>53</td>\n",
       "      <td>среднее</td>\n",
       "      <td>1</td>\n",
       "      <td>гражданский брак</td>\n",
       "      <td>1</td>\n",
       "      <td>F</td>\n",
       "      <td>пенсионер</td>\n",
       "      <td>0</td>\n",
       "      <td>158616.077870</td>\n",
       "      <td>сыграть свадьбу</td>\n",
       "    </tr>\n",
       "  </tbody>\n",
       "</table>\n",
       "</div>"
      ],
      "text/plain": [
       "   children  days_employed  dob_years education  education_id  \\\n",
       "0         1   -8437.673028         42    высшее             0   \n",
       "1         1   -4024.803754         36   среднее             1   \n",
       "2         0   -5623.422610         33   Среднее             1   \n",
       "3         3   -4124.747207         32   среднее             1   \n",
       "4         0  340266.072047         53   среднее             1   \n",
       "\n",
       "      family_status  family_status_id gender income_type  debt   total_income  \\\n",
       "0   женат / замужем                 0      F   сотрудник     0  253875.639453   \n",
       "1   женат / замужем                 0      F   сотрудник     0  112080.014102   \n",
       "2   женат / замужем                 0      M   сотрудник     0  145885.952297   \n",
       "3   женат / замужем                 0      M   сотрудник     0  267628.550329   \n",
       "4  гражданский брак                 1      F   пенсионер     0  158616.077870   \n",
       "\n",
       "                      purpose  \n",
       "0               покупка жилья  \n",
       "1     приобретение автомобиля  \n",
       "2               покупка жилья  \n",
       "3  дополнительное образование  \n",
       "4             сыграть свадьбу  "
      ]
     },
     "execution_count": 2,
     "metadata": {},
     "output_type": "execute_result"
    }
   ],
   "source": [
    "# импортируем pandas\n",
    "import pandas as pd\n",
    "\n",
    "# читаем файл\n",
    "data = pd.read_csv('/datasets/data.csv')\n",
    "\n",
    "# первая проверка\n",
    "data.info()\n",
    "data.head()"
   ]
  },
  {
   "cell_type": "markdown",
   "metadata": {},
   "source": [
    "### Вывод"
   ]
  },
  {
   "cell_type": "markdown",
   "metadata": {},
   "source": [
    "В процессе первичной проверки данных было обнаружено следующее:\n",
    "- Названия столбцов соответствуют требованиям анализа данных;\n",
    "- В столбцах 'children' и 'days_employed' обнаружены отрицательные значения и выбросы;\n",
    "- В столбце 'dob_years' обнаружены нулевые значения;\n",
    "- В столбце 'education' обнаружены различные регистры;\n",
    "- В столбцах 'days_employed' и 'total_income' обнаружены пропуски."
   ]
  },
  {
   "cell_type": "markdown",
   "metadata": {},
   "source": [
    "### Шаг 2. Предобработка данных"
   ]
  },
  {
   "cell_type": "markdown",
   "metadata": {},
   "source": [
    "### Обработка пропусков"
   ]
  },
  {
   "cell_type": "code",
   "execution_count": 3,
   "metadata": {},
   "outputs": [
    {
     "name": "stdout",
     "output_type": "stream",
     "text": [
      "<class 'pandas.core.frame.DataFrame'>\n",
      "RangeIndex: 21525 entries, 0 to 21524\n",
      "Data columns (total 12 columns):\n",
      "children            21525 non-null int64\n",
      "days_employed       21525 non-null float64\n",
      "dob_years           21525 non-null int64\n",
      "education           21525 non-null object\n",
      "education_id        21525 non-null int64\n",
      "family_status       21525 non-null object\n",
      "family_status_id    21525 non-null int64\n",
      "gender              21525 non-null object\n",
      "income_type         21525 non-null object\n",
      "debt                21525 non-null int64\n",
      "total_income        21525 non-null float64\n",
      "purpose             21525 non-null object\n",
      "dtypes: float64(2), int64(5), object(5)\n",
      "memory usage: 2.0+ MB\n"
     ]
    }
   ],
   "source": [
    "# обработаем нули в столбце 'dob_years', заполнив средними значениями в зависимости от категорий 'income_type'\n",
    "# обозначим функцию среднего возраста в зависимости от категории дохода\n",
    "def age_according_to_income_type(row):\n",
    "    if row['dob_years'] == 0:\n",
    "        return round(data[data['income_type'] == row['income_type']]['dob_years'].mean())\n",
    "    return round(row['dob_years'])\n",
    "\n",
    "# применим функцию к датасету\n",
    "data['dob_years'] = data.apply(age_according_to_income_type, axis=1) \n",
    "\n",
    "# далее необходимо обработать данные столбца 'days_employed'\n",
    "# обозначим функцию приведения числа к модулю\n",
    "def module(number): \n",
    "    if number > 0:\n",
    "        return number\n",
    "    return -number\n",
    "\n",
    "# применим функцию к отрицательным значениям\n",
    "data['days_employed'] = data['days_employed'].apply(module) \n",
    "\n",
    "# посчитаем среднее количество отработанных дней на каждый год жизни после 18 лет для данных без выбросов \n",
    "days_employed_mean_per_year = data[data['days_employed'] < 300000]['days_employed'].mean() / (data[data['days_employed'] < 300000]['dob_years'].mean() - 18)\n",
    "\n",
    "# заменим выбросы и пропуски усредненными значениями, основываясь на возрасте\n",
    "def normalyzer(row):\n",
    "    if row['days_employed'] < 300000:\n",
    "        return row['days_employed']   \n",
    "    return days_employed_mean_per_year * (row['dob_years'] - 18)\n",
    "\n",
    "# применим функцию к датасету \n",
    "data['days_employed'] = data.apply(normalyzer, axis=1) \n",
    "\n",
    "# очередь обработки столбца 'total_income'\n",
    "# обработаем NaN в столбце 'total_income', заполнив медианными значениями\n",
    "\n",
    "income_median = data['total_income'].median()\n",
    "data['total_income'] = data['total_income'].fillna(value = income_median)\n",
    "\n",
    "# обработаем отрицательные значения и выбросы в столбце 'children'\n",
    "# определим функцию, возвращающую корректные значения количества детей\n",
    "\n",
    "def children_normal(children): \n",
    "    if children < 0:\n",
    "        return -children\n",
    "    if children >= 10:\n",
    "        return children // 10\n",
    "    return children\n",
    "\n",
    "# применим функцию к датасету \n",
    "data['children'] = data['children'].apply(children_normal) \n",
    "\n",
    "# проверка\n",
    "data.isna().sum()\n",
    "data.info()"
   ]
  },
  {
   "cell_type": "markdown",
   "metadata": {},
   "source": [
    "### Вывод"
   ]
  },
  {
   "cell_type": "markdown",
   "metadata": {},
   "source": [
    "В процессе обработки пропусков было выполнено следующее:\n",
    "- В первую очередь был обработан столбец 'dob_years', в котором нулевые значения были заменены средними значениями по категориям стобца 'income_type';\n",
    "- Основной задачей была обработка отрицательных и выпадающих значений столбца 'days_employed'. Было выяснено, что категория пенсионеров отображается некорректно, и количество отработанных дней в переводе на года превышает возраст пенсионеров. Поэтому отрицательные значения были изменены на положительные, а выпадающие - заменены на произведение среднегодового количества отработанных дней после совершеннолетия на возраст после совершеннолетия;\n",
    "- Пропущенные значения столбца 'total_income' были заменены на медианные значения, чтобы нивелировать влияние выбросов;\n",
    "- Отрицательные значения и выборосы в столбце 'children' были заменены на логически верные."
   ]
  },
  {
   "cell_type": "markdown",
   "metadata": {},
   "source": [
    "### Замена типа данных"
   ]
  },
  {
   "cell_type": "code",
   "execution_count": 4,
   "metadata": {},
   "outputs": [
    {
     "name": "stdout",
     "output_type": "stream",
     "text": [
      "<class 'pandas.core.frame.DataFrame'>\n",
      "RangeIndex: 21525 entries, 0 to 21524\n",
      "Data columns (total 12 columns):\n",
      "children            21525 non-null int64\n",
      "days_employed       21525 non-null int64\n",
      "dob_years           21525 non-null int64\n",
      "education           21525 non-null object\n",
      "education_id        21525 non-null int64\n",
      "family_status       21525 non-null object\n",
      "family_status_id    21525 non-null int64\n",
      "gender              21525 non-null object\n",
      "income_type         21525 non-null object\n",
      "debt                21525 non-null int64\n",
      "total_income        21525 non-null int64\n",
      "purpose             21525 non-null object\n",
      "dtypes: int64(7), object(5)\n",
      "memory usage: 2.0+ MB\n"
     ]
    }
   ],
   "source": [
    "# заменим типы данных float на int\n",
    "data['days_employed'] = data['days_employed'].astype('int')\n",
    "data['total_income'] = data['total_income'].astype('int')\n",
    "\n",
    "# проверка\n",
    "data.info()"
   ]
  },
  {
   "cell_type": "markdown",
   "metadata": {},
   "source": [
    "### Вывод"
   ]
  },
  {
   "cell_type": "markdown",
   "metadata": {},
   "source": [
    "Вещественный тип данных столбцов 'days_employed' и 'total_income' нарушали наглядность данных и не приносили никакого дополнительного качества в датасет, поэтому было принято решение заменить вещественный тип данных на целочисленный методом 'astype()'"
   ]
  },
  {
   "cell_type": "markdown",
   "metadata": {},
   "source": [
    "### Обработка дубликатов"
   ]
  },
  {
   "cell_type": "code",
   "execution_count": 5,
   "metadata": {},
   "outputs": [
    {
     "data": {
      "text/plain": [
       "0"
      ]
     },
     "execution_count": 5,
     "metadata": {},
     "output_type": "execute_result"
    }
   ],
   "source": [
    "data['education'] = data['education'].str.lower() # приводим данные в единый регистр\n",
    "\n",
    "data = data.drop_duplicates().reset_index(drop=True) # избавляемся от дубликатов с восстановлением индексов\n",
    "\n",
    "data.duplicated().sum() # проверяем наличие дубликатов"
   ]
  },
  {
   "cell_type": "markdown",
   "metadata": {},
   "source": [
    "### Вывод"
   ]
  },
  {
   "cell_type": "markdown",
   "metadata": {},
   "source": [
    "Для обработки дубликатов было выполнено следующее:\n",
    "- Данные столбца 'education' были приведены в единый регистр методом str.lower();\n",
    "- Методами drop_duplicates() и reset_index() были удалены дубликаты с восстановлением индексов.\n",
    "Наличие дубликатов можно обосновать ошибкой выгрузки данных из различных источников, когда в датасет попали одинаковые данные из многих баз данных."
   ]
  },
  {
   "cell_type": "markdown",
   "metadata": {},
   "source": [
    "### Лемматизация"
   ]
  },
  {
   "cell_type": "code",
   "execution_count": 6,
   "metadata": {},
   "outputs": [
    {
     "data": {
      "text/plain": [
       "Counter({'покупка': 5897,\n",
       "         ' ': 33570,\n",
       "         'жилье': 4460,\n",
       "         '\\n': 21454,\n",
       "         'приобретение': 461,\n",
       "         'автомобиль': 4306,\n",
       "         'дополнительный': 906,\n",
       "         'образование': 4013,\n",
       "         'сыграть': 765,\n",
       "         'свадьба': 2324,\n",
       "         'операция': 2604,\n",
       "         'с': 2918,\n",
       "         'на': 2222,\n",
       "         'проведение': 768,\n",
       "         'для': 1289,\n",
       "         'семья': 638,\n",
       "         'недвижимость': 6351,\n",
       "         'коммерческий': 1311,\n",
       "         'жилой': 1230,\n",
       "         'строительство': 1878,\n",
       "         'собственный': 635,\n",
       "         'подержать': 478,\n",
       "         'свой': 2230,\n",
       "         'со': 627,\n",
       "         'заниматься': 904,\n",
       "         'сделка': 941,\n",
       "         'подержанный': 486,\n",
       "         'получение': 1314,\n",
       "         'высокий': 1374,\n",
       "         'профильный': 436,\n",
       "         'сдача': 651,\n",
       "         'ремонт': 607})"
      ]
     },
     "execution_count": 6,
     "metadata": {},
     "output_type": "execute_result"
    }
   ],
   "source": [
    "# импортируем pymystem\n",
    "from pymystem3 import Mystem\n",
    "m = Mystem()\n",
    "lemmas = []\n",
    "# импортируем счетчтик\n",
    "from collections import Counter\n",
    "\n",
    "# создаем цикл для лемматизации\n",
    "for n in range(len(data['purpose'])):\n",
    "    lemmas += m.lemmatize(data['purpose'][n])\n",
    "\n",
    "# считаем наиболее употребляемые слова    \n",
    "Counter(lemmas)"
   ]
  },
  {
   "cell_type": "markdown",
   "metadata": {},
   "source": [
    "### Вывод"
   ]
  },
  {
   "cell_type": "markdown",
   "metadata": {},
   "source": [
    "Для лемматизации использовались библиотеки pymystem и collections. \n",
    "После анализа выводов стало ясно, что цели кредита можно разделить на 4 основные категории: \n",
    "- недвижимость;\n",
    "- автомобили;\n",
    "- свабьба;\n",
    "- обучение."
   ]
  },
  {
   "cell_type": "markdown",
   "metadata": {},
   "source": [
    "### Категоризация данных"
   ]
  },
  {
   "cell_type": "code",
   "execution_count": 7,
   "metadata": {},
   "outputs": [
    {
     "name": "stdout",
     "output_type": "stream",
     "text": [
      "<class 'pandas.core.frame.DataFrame'>\n",
      "RangeIndex: 21454 entries, 0 to 21453\n",
      "Data columns (total 15 columns):\n",
      "children             21454 non-null int64\n",
      "days_employed        21454 non-null int64\n",
      "dob_years            21454 non-null int64\n",
      "education            21454 non-null object\n",
      "education_id         21454 non-null int64\n",
      "family_status        21454 non-null object\n",
      "family_status_id     21454 non-null int64\n",
      "gender               21454 non-null object\n",
      "income_type          21454 non-null object\n",
      "debt                 21454 non-null int64\n",
      "total_income         21454 non-null int64\n",
      "purpose              21454 non-null object\n",
      "purpose_category     21454 non-null object\n",
      "income_category      21454 non-null object\n",
      "children_category    21454 non-null object\n",
      "dtypes: int64(7), object(8)\n",
      "memory usage: 2.5+ MB\n"
     ]
    }
   ],
   "source": [
    "# определим функцию, укрупняющую причины до основных категорий\n",
    "def categoryzator(purpose):\n",
    "    if 'свадьб' in purpose:\n",
    "        return 'свадьба'\n",
    "    if 'недвижимост' in purpose:\n",
    "        return 'недвижимость'\n",
    "    if 'жиль' in purpose:\n",
    "        return 'недвижимость'\n",
    "    if 'автомобил' in purpose:\n",
    "        return 'автомобиль'\n",
    "    if 'образован' in purpose:\n",
    "        return 'образование'\n",
    "    return 'ошибка категоризации'\n",
    "\n",
    "# применим функцию к датасету для категоризации\n",
    "data['purpose_category'] = data['purpose'].apply(categoryzator)\n",
    "\n",
    "# проверка\n",
    "data['purpose_category'].value_counts()\n",
    "\n",
    "# определим функцию, укрупняющую доход до четырех основных категорий\n",
    "def income_categoryzator(income):\n",
    "    if income < 80000:\n",
    "        return 'низкого дохода'\n",
    "    if 80000 <= income < 150000:\n",
    "        return 'среднего дохода'\n",
    "    if 150000 <= income < 300000:\n",
    "        return 'высокого дохода'\n",
    "    return 'богатые'\n",
    "\n",
    "# применим функцию к датасету для категоризации\n",
    "data['income_category'] = data['total_income'].apply(income_categoryzator)\n",
    "\n",
    "# определим функцию, укрупняющую количество детей до трех основных категорий\n",
    "def children_categoryzator(children):\n",
    "    if children == 0:\n",
    "        return 'заемщик без детей'\n",
    "    if children == 1:\n",
    "        return 'заемщик с одним ребенком'\n",
    "    return 'многодетный заемщик'\n",
    "\n",
    "# применим функцию к датасету для категоризации\n",
    "data['children_category'] = data['children'].apply(children_categoryzator)\n",
    "\n",
    "# проверка\n",
    "data.head()\n",
    "data.info()"
   ]
  },
  {
   "cell_type": "markdown",
   "metadata": {},
   "source": [
    "### Вывод"
   ]
  },
  {
   "cell_type": "markdown",
   "metadata": {},
   "source": [
    "Для ответа на вопросы из Шага 3 нам необходимо выделить категории по 4 характеристикам: семейное положение, количество детей, уровень дохода и цель кредита. Для первой характеристики категории были выделены достаточно четко без дополнительной обработки, для оставщихся было выполнено следующее: \n",
    "- Для категоризации целей кредита была проведена лемматизация, которая выявила 4 основные цели кредита: недвижимость, автомобили, свабьба, обучение. Поэтому было достаточно определить функцию, которая бы присваивала одну из этих категорий для каждого наблюдения.\n",
    "- Для категоризации по уровню дохода были выделены 4 основные категории граждан: люди низкого дохода - до 80 тыс. руб. в месяц; люди среднего дохода - до 150 тыс. руб. в месяц; люди высокого дохода - до 300 тыс. руб. в месяц; богатые - свыше 300 тыс. руб. в месяц;\n",
    "- Для категоризации по количеству детей были выделены три основные группы: заемщики без детей; заемщики с одним ребенком; заемщики с двумя или более детей."
   ]
  },
  {
   "cell_type": "markdown",
   "metadata": {},
   "source": [
    "### Шаг 3. Ответьте на вопросы"
   ]
  },
  {
   "cell_type": "markdown",
   "metadata": {},
   "source": [
    "- Есть ли зависимость между наличием детей и возвратом кредита в срок?"
   ]
  },
  {
   "cell_type": "code",
   "execution_count": 8,
   "metadata": {},
   "outputs": [
    {
     "data": {
      "text/html": [
       "<div>\n",
       "<style scoped>\n",
       "    .dataframe tbody tr th:only-of-type {\n",
       "        vertical-align: middle;\n",
       "    }\n",
       "\n",
       "    .dataframe tbody tr th {\n",
       "        vertical-align: top;\n",
       "    }\n",
       "\n",
       "    .dataframe thead tr th {\n",
       "        text-align: left;\n",
       "    }\n",
       "\n",
       "    .dataframe thead tr:last-of-type th {\n",
       "        text-align: right;\n",
       "    }\n",
       "</style>\n",
       "<table border=\"1\" class=\"dataframe\">\n",
       "  <thead>\n",
       "    <tr>\n",
       "      <th></th>\n",
       "      <th colspan=\"2\" halign=\"left\">debt</th>\n",
       "      <th>conversion</th>\n",
       "    </tr>\n",
       "    <tr>\n",
       "      <th></th>\n",
       "      <th>count</th>\n",
       "      <th>sum</th>\n",
       "      <th></th>\n",
       "    </tr>\n",
       "    <tr>\n",
       "      <th>children_category</th>\n",
       "      <th></th>\n",
       "      <th></th>\n",
       "      <th></th>\n",
       "    </tr>\n",
       "  </thead>\n",
       "  <tbody>\n",
       "    <tr>\n",
       "      <td>заемщик без детей</td>\n",
       "      <td>14091</td>\n",
       "      <td>1063</td>\n",
       "      <td>0.075438</td>\n",
       "    </tr>\n",
       "    <tr>\n",
       "      <td>заемщик с одним ребенком</td>\n",
       "      <td>4855</td>\n",
       "      <td>445</td>\n",
       "      <td>0.091658</td>\n",
       "    </tr>\n",
       "    <tr>\n",
       "      <td>многодетный заемщик</td>\n",
       "      <td>2508</td>\n",
       "      <td>233</td>\n",
       "      <td>0.092903</td>\n",
       "    </tr>\n",
       "  </tbody>\n",
       "</table>\n",
       "</div>"
      ],
      "text/plain": [
       "                           debt       conversion\n",
       "                          count   sum           \n",
       "children_category                               \n",
       "заемщик без детей         14091  1063   0.075438\n",
       "заемщик с одним ребенком   4855   445   0.091658\n",
       "многодетный заемщик        2508   233   0.092903"
      ]
     },
     "execution_count": 8,
     "metadata": {},
     "output_type": "execute_result"
    }
   ],
   "source": [
    "# создаем таблицу, отражающую зависимость неплатежа по кредиту от количества детей заемщика\n",
    "children_debt = data.groupby('children_category').agg({'debt':['count', 'sum']})\n",
    "children_debt['conversion'] = children_debt['debt']['sum'] / children_debt['debt']['count'] \n",
    "\n",
    "# визуализируем данные\n",
    "children_debt.sort_values('conversion')"
   ]
  },
  {
   "cell_type": "markdown",
   "metadata": {},
   "source": [
    "### Вывод"
   ]
  },
  {
   "cell_type": "markdown",
   "metadata": {},
   "source": [
    "В ходе проведенного анализа был получен вывод, что заемщики без детей возвращают кредит вовремя чаще, чем заемщики с 1 и более детей.\n",
    "Возможно, причина в том, что дети оказывают дополнительную финансовую нагрузку на заемщиков, что негативно сказывается на своевременном погашении кредитов."
   ]
  },
  {
   "cell_type": "markdown",
   "metadata": {},
   "source": [
    "- Есть ли зависимость между семейным положением и возвратом кредита в срок?"
   ]
  },
  {
   "cell_type": "code",
   "execution_count": 9,
   "metadata": {},
   "outputs": [
    {
     "data": {
      "text/html": [
       "<div>\n",
       "<style scoped>\n",
       "    .dataframe tbody tr th:only-of-type {\n",
       "        vertical-align: middle;\n",
       "    }\n",
       "\n",
       "    .dataframe tbody tr th {\n",
       "        vertical-align: top;\n",
       "    }\n",
       "\n",
       "    .dataframe thead tr th {\n",
       "        text-align: left;\n",
       "    }\n",
       "\n",
       "    .dataframe thead tr:last-of-type th {\n",
       "        text-align: right;\n",
       "    }\n",
       "</style>\n",
       "<table border=\"1\" class=\"dataframe\">\n",
       "  <thead>\n",
       "    <tr>\n",
       "      <th></th>\n",
       "      <th colspan=\"2\" halign=\"left\">debt</th>\n",
       "      <th>conversion</th>\n",
       "    </tr>\n",
       "    <tr>\n",
       "      <th></th>\n",
       "      <th>count</th>\n",
       "      <th>sum</th>\n",
       "      <th></th>\n",
       "    </tr>\n",
       "    <tr>\n",
       "      <th>family_status</th>\n",
       "      <th></th>\n",
       "      <th></th>\n",
       "      <th></th>\n",
       "    </tr>\n",
       "  </thead>\n",
       "  <tbody>\n",
       "    <tr>\n",
       "      <td>вдовец / вдова</td>\n",
       "      <td>959</td>\n",
       "      <td>63</td>\n",
       "      <td>0.065693</td>\n",
       "    </tr>\n",
       "    <tr>\n",
       "      <td>в разводе</td>\n",
       "      <td>1195</td>\n",
       "      <td>85</td>\n",
       "      <td>0.071130</td>\n",
       "    </tr>\n",
       "    <tr>\n",
       "      <td>женат / замужем</td>\n",
       "      <td>12339</td>\n",
       "      <td>931</td>\n",
       "      <td>0.075452</td>\n",
       "    </tr>\n",
       "    <tr>\n",
       "      <td>гражданский брак</td>\n",
       "      <td>4151</td>\n",
       "      <td>388</td>\n",
       "      <td>0.093471</td>\n",
       "    </tr>\n",
       "    <tr>\n",
       "      <td>Не женат / не замужем</td>\n",
       "      <td>2810</td>\n",
       "      <td>274</td>\n",
       "      <td>0.097509</td>\n",
       "    </tr>\n",
       "  </tbody>\n",
       "</table>\n",
       "</div>"
      ],
      "text/plain": [
       "                        debt      conversion\n",
       "                       count  sum           \n",
       "family_status                               \n",
       "вдовец / вдова           959   63   0.065693\n",
       "в разводе               1195   85   0.071130\n",
       "женат / замужем        12339  931   0.075452\n",
       "гражданский брак        4151  388   0.093471\n",
       "Не женат / не замужем   2810  274   0.097509"
      ]
     },
     "execution_count": 9,
     "metadata": {},
     "output_type": "execute_result"
    }
   ],
   "source": [
    "# создаем таблицу, отражающую зависимость неплатежа по кредиту от количества детей заемщика\n",
    "family_status_debt = data.groupby('family_status').agg({'debt':['count', 'sum']})\n",
    "family_status_debt['conversion'] = family_status_debt['debt']['sum'] / family_status_debt['debt']['count'] \n",
    "\n",
    "# визуализируем данные\n",
    "family_status_debt.sort_values('conversion')"
   ]
  },
  {
   "cell_type": "markdown",
   "metadata": {},
   "source": [
    "### Вывод"
   ]
  },
  {
   "cell_type": "markdown",
   "metadata": {},
   "source": [
    "В ходе анализа зависимости своевременных возвратов кредитов от семейного положения был сделан вывод, что заемщики, которые когда-либо были зарегестрированы в официальном браке, значительно чаще возвращают кредиты в срок.\n",
    "Обосновать данные выводы можно тем, что в официальный брак зачастую вступают более ответственные и финансово стабильные граждане."
   ]
  },
  {
   "cell_type": "markdown",
   "metadata": {},
   "source": [
    "- Есть ли зависимость между уровнем дохода и возвратом кредита в срок?"
   ]
  },
  {
   "cell_type": "code",
   "execution_count": 10,
   "metadata": {
    "scrolled": true
   },
   "outputs": [
    {
     "data": {
      "text/html": [
       "<div>\n",
       "<style scoped>\n",
       "    .dataframe tbody tr th:only-of-type {\n",
       "        vertical-align: middle;\n",
       "    }\n",
       "\n",
       "    .dataframe tbody tr th {\n",
       "        vertical-align: top;\n",
       "    }\n",
       "\n",
       "    .dataframe thead tr th {\n",
       "        text-align: left;\n",
       "    }\n",
       "\n",
       "    .dataframe thead tr:last-of-type th {\n",
       "        text-align: right;\n",
       "    }\n",
       "</style>\n",
       "<table border=\"1\" class=\"dataframe\">\n",
       "  <thead>\n",
       "    <tr>\n",
       "      <th></th>\n",
       "      <th colspan=\"2\" halign=\"left\">debt</th>\n",
       "      <th>conversion</th>\n",
       "    </tr>\n",
       "    <tr>\n",
       "      <th></th>\n",
       "      <th>count</th>\n",
       "      <th>sum</th>\n",
       "      <th></th>\n",
       "    </tr>\n",
       "    <tr>\n",
       "      <th>income_category</th>\n",
       "      <th></th>\n",
       "      <th></th>\n",
       "      <th></th>\n",
       "    </tr>\n",
       "  </thead>\n",
       "  <tbody>\n",
       "    <tr>\n",
       "      <td>богатые</td>\n",
       "      <td>1482</td>\n",
       "      <td>106</td>\n",
       "      <td>0.071525</td>\n",
       "    </tr>\n",
       "    <tr>\n",
       "      <td>низкого дохода</td>\n",
       "      <td>2276</td>\n",
       "      <td>174</td>\n",
       "      <td>0.076450</td>\n",
       "    </tr>\n",
       "    <tr>\n",
       "      <td>высокого дохода</td>\n",
       "      <td>7702</td>\n",
       "      <td>620</td>\n",
       "      <td>0.080499</td>\n",
       "    </tr>\n",
       "    <tr>\n",
       "      <td>среднего дохода</td>\n",
       "      <td>9994</td>\n",
       "      <td>841</td>\n",
       "      <td>0.084150</td>\n",
       "    </tr>\n",
       "  </tbody>\n",
       "</table>\n",
       "</div>"
      ],
      "text/plain": [
       "                 debt      conversion\n",
       "                count  sum           \n",
       "income_category                      \n",
       "богатые          1482  106   0.071525\n",
       "низкого дохода   2276  174   0.076450\n",
       "высокого дохода  7702  620   0.080499\n",
       "среднего дохода  9994  841   0.084150"
      ]
     },
     "execution_count": 10,
     "metadata": {},
     "output_type": "execute_result"
    }
   ],
   "source": [
    "# создаем таблицу, отражающую зависимость неплатежа по кредиту от количества детей заемщика\n",
    "income_debt = data.groupby('income_category').agg({'debt':['count', 'sum']})\n",
    "income_debt['conversion'] = income_debt['debt']['sum'] / income_debt['debt']['count'] \n",
    "\n",
    "# визуализируем данные\n",
    "income_debt.sort_values('conversion')"
   ]
  },
  {
   "cell_type": "markdown",
   "metadata": {},
   "source": [
    "### Вывод"
   ]
  },
  {
   "cell_type": "markdown",
   "metadata": {},
   "source": [
    "В ходе анализа были получены следующие выводы:\n",
    "- Богатые, очевидно, значительно чаще возвращают кредит в срок. Это можно обосновать более вдумчивым подходом к финансам (собственно, не зря богатые люди богаты, верно?);\n",
    "- Довольно неожиданно, но люди с низкими доходами справляются с возвратом кредитов лучше, чем люди со средним и высокими доходами. Возможно, причина в том, что люди с низкими доходами берут кредиты на более необходимые вещи, чем люди со средними и высокими доходами, зачастую пытающиеся казаться более обеспеченными, чем они есть на самом деле."
   ]
  },
  {
   "cell_type": "markdown",
   "metadata": {},
   "source": [
    "- Как разные цели кредита влияют на его возврат в срок?"
   ]
  },
  {
   "cell_type": "code",
   "execution_count": 11,
   "metadata": {},
   "outputs": [
    {
     "data": {
      "text/html": [
       "<div>\n",
       "<style scoped>\n",
       "    .dataframe tbody tr th:only-of-type {\n",
       "        vertical-align: middle;\n",
       "    }\n",
       "\n",
       "    .dataframe tbody tr th {\n",
       "        vertical-align: top;\n",
       "    }\n",
       "\n",
       "    .dataframe thead tr th {\n",
       "        text-align: left;\n",
       "    }\n",
       "\n",
       "    .dataframe thead tr:last-of-type th {\n",
       "        text-align: right;\n",
       "    }\n",
       "</style>\n",
       "<table border=\"1\" class=\"dataframe\">\n",
       "  <thead>\n",
       "    <tr>\n",
       "      <th></th>\n",
       "      <th colspan=\"2\" halign=\"left\">debt</th>\n",
       "      <th>conversion</th>\n",
       "    </tr>\n",
       "    <tr>\n",
       "      <th></th>\n",
       "      <th>count</th>\n",
       "      <th>sum</th>\n",
       "      <th></th>\n",
       "    </tr>\n",
       "    <tr>\n",
       "      <th>purpose_category</th>\n",
       "      <th></th>\n",
       "      <th></th>\n",
       "      <th></th>\n",
       "    </tr>\n",
       "  </thead>\n",
       "  <tbody>\n",
       "    <tr>\n",
       "      <td>недвижимость</td>\n",
       "      <td>10811</td>\n",
       "      <td>782</td>\n",
       "      <td>0.072334</td>\n",
       "    </tr>\n",
       "    <tr>\n",
       "      <td>свадьба</td>\n",
       "      <td>2324</td>\n",
       "      <td>186</td>\n",
       "      <td>0.080034</td>\n",
       "    </tr>\n",
       "    <tr>\n",
       "      <td>образование</td>\n",
       "      <td>4013</td>\n",
       "      <td>370</td>\n",
       "      <td>0.092200</td>\n",
       "    </tr>\n",
       "    <tr>\n",
       "      <td>автомобиль</td>\n",
       "      <td>4306</td>\n",
       "      <td>403</td>\n",
       "      <td>0.093590</td>\n",
       "    </tr>\n",
       "  </tbody>\n",
       "</table>\n",
       "</div>"
      ],
      "text/plain": [
       "                   debt      conversion\n",
       "                  count  sum           \n",
       "purpose_category                       \n",
       "недвижимость      10811  782   0.072334\n",
       "свадьба            2324  186   0.080034\n",
       "образование        4013  370   0.092200\n",
       "автомобиль         4306  403   0.093590"
      ]
     },
     "execution_count": 11,
     "metadata": {},
     "output_type": "execute_result"
    }
   ],
   "source": [
    "# создаем таблицу, отражающую зависимость неплатежа по кредиту от количества детей заемщика\n",
    "purpose_debt = data.groupby('purpose_category').agg({'debt':['count', 'sum']})\n",
    "purpose_debt['conversion'] = purpose_debt['debt']['sum'] / purpose_debt['debt']['count'] \n",
    "\n",
    "# визуализируем данные\n",
    "purpose_debt.sort_values('conversion')"
   ]
  },
  {
   "cell_type": "markdown",
   "metadata": {},
   "source": [
    "### Вывод"
   ]
  },
  {
   "cell_type": "markdown",
   "metadata": {},
   "source": [
    "В ходе анализа зависимости возвратности кредита в срок от целей его получения, были достигнуты следующие результаты:\n",
    "- Наиболее часто возвращают кредит в срок заемщики, которые покупают или ремонтируют недвижимость. Основная причина, обусловившая данный результат, кроектся в том, что ипотечное жилье являтеся залогом кредита, и зачастую является единственным жильем заемщика;\n",
    "- Довольно неожиданный результат, но кредиты на свадьбу погашаются вовремя чаще, чем кредиты на образование. В качестве возможной причины можно привести тот факт, что кредиты на свадьбу зачастую являются краткосрочными, и быстро погашаются подаренными гостями деньгами (если, конечно, заемщики финансово грамотны и ответственны). Кредиты на обучение, наоборот, в силу специфики обучения, являются более долгосрочными и при этом зачастую не приносят увеличения доходов в будущем, как ожидает заемщик;\n",
    "- Худшей статистикой возвратности обладают кредиты на покупку автомобиля. Возможная причина кроется в том, что заемщики не всегда понимают, что наличие автомобиля значительно повышает требования к доходам, так как автомобиль требует постоянных финансовых вложений (бензин, страховка, мойка, плановое ТО, замена масла)."
   ]
  },
  {
   "cell_type": "markdown",
   "metadata": {},
   "source": [
    "### Шаг 4. Общий вывод"
   ]
  },
  {
   "cell_type": "markdown",
   "metadata": {},
   "source": [
    "В ходе данного проекта получены следующие выводы:\n",
    "- Да, семейное положение и наличие детей значительно влияет на факт погашения кредита в срок. Однако неожиданным выводом стал факт, что эти метрики обратнозависимые - женатые люди возвращают кредиты вовремя чаще, чем неженатые, но при этом заемщики с детьми возвращают кредиты вовремя реже, чем заемщики без детей. Данная зависимость требует дальнейшей проработки на более объемной выборке;\n",
    "- Неожиданным выводом стало то, что кредиты на свадьбу, несмотря на свою неоднозначную репутацию в обществе, возвращаются вовремя чаще, чем кредиты на образование. Хотя основная причина, по моему мнению, в сроке кредита. Было бы интересно получить и данную метрику в следующий раз, чтобы провести более глубокий анализ;\n",
    "- Вторым неожиданным выводом стало то, что люди с низкими доходами лучше справляются с своевременными возвратами кредитов, чем заемщики со средними и высокими доходами. Возможно, причина кроется в том, что людям с низкими доходами значительно чаще приходится планировать затраты на месяц, так как свободных денежных средств попросту нет. \n",
    "\n",
    "Есть уверенность, что данные метрики могут быть применены в разработке системы кредитного скоринга."
   ]
  }
 ],
 "metadata": {
  "kernelspec": {
   "display_name": "Python 3",
   "language": "python",
   "name": "python3"
  },
  "language_info": {
   "codemirror_mode": {
    "name": "ipython",
    "version": 3
   },
   "file_extension": ".py",
   "mimetype": "text/x-python",
   "name": "python",
   "nbconvert_exporter": "python",
   "pygments_lexer": "ipython3",
   "version": "3.7.6"
  }
 },
 "nbformat": 4,
 "nbformat_minor": 2
}
